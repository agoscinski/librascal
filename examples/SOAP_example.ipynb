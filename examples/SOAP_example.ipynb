{
 "cells": [
  {
   "cell_type": "markdown",
   "metadata": {},
   "source": [
    "To install rascal:\n",
    "(NOTE: See the top-level README for the most up-to-date installation instructions.)\n",
    "+ mkdir ../build \n",
    "+ cd build\n",
    "+ cmake -DCMAKE_BUILD_TYPE=Release -DBUILD_TESTS=ON ..\n",
    "+ make -j 4\n",
    "+ make install"
   ]
  },
  {
   "cell_type": "code",
   "execution_count": 1,
   "metadata": {
    "init_cell": true
   },
   "outputs": [],
   "source": [
    "%matplotlib inline\n",
    "from matplotlib import pyplot as plt\n",
    "\n",
    "import os, sys\n",
    "from ase.io import read\n",
    "sys.path.insert(0,\"../build/\")\n",
    "\n",
    "import sys\n",
    "import time\n",
    "import rascal\n",
    "import json\n",
    "\n",
    "import ase\n",
    "from ase.io import read, write\n",
    "from ase.build import make_supercell\n",
    "from ase.visualize import view\n",
    "import numpy as np\n",
    "import sys\n",
    "\n",
    "import json\n",
    "\n",
    "from rascal.representations import SphericalExpansion, SOAP\n",
    "from rascal.utils import ostream_redirect"
   ]
  },
  {
   "cell_type": "code",
   "execution_count": 2,
   "metadata": {
    "init_cell": true
   },
   "outputs": [],
   "source": [
    "frames = read('./data/small_molecules-1000.xyz',':')"
   ]
  },
  {
   "cell_type": "markdown",
   "metadata": {
    "heading_collapsed": true
   },
   "source": [
    "# Density expansion"
   ]
  },
  {
   "cell_type": "code",
   "execution_count": 3,
   "metadata": {
    "hidden": true,
    "init_cell": true
   },
   "outputs": [],
   "source": [
    "test_hypers = {\"interaction_cutoff\": 6.0, \"cutoff_smooth_width\": 1.0, \"max_radial\": 10, \"max_angular\": 8, \"gaussian_sigma_type\": \"Constant\", \"gaussian_sigma_constant\": 0.5}"
   ]
  },
  {
   "cell_type": "code",
   "execution_count": 9,
   "metadata": {
    "hidden": true,
    "init_cell": true
   },
   "outputs": [],
   "source": [
    "sph_expn = SphericalExpansion(**test_hypers)"
   ]
  },
  {
   "cell_type": "code",
   "execution_count": 13,
   "metadata": {
    "hidden": true
   },
   "outputs": [],
   "source": [
    "with ostream_redirect():\n",
    "    expansions = sph_expn.transform(frames)"
   ]
  },
  {
   "cell_type": "code",
   "execution_count": 14,
   "metadata": {
    "hidden": true
   },
   "outputs": [],
   "source": [
    "X = expansions.get_feature_matrix().T"
   ]
  },
  {
   "cell_type": "code",
   "execution_count": 15,
   "metadata": {
    "hidden": true
   },
   "outputs": [
    {
     "data": {
      "text/plain": [
       "(8977, 4050)"
      ]
     },
     "execution_count": 15,
     "metadata": {},
     "output_type": "execute_result"
    }
   ],
   "source": [
    "X.shape"
   ]
  },
  {
   "cell_type": "markdown",
   "metadata": {
    "heading_collapsed": true
   },
   "source": [
    "# SOAP: Radial spectrum"
   ]
  },
  {
   "cell_type": "code",
   "execution_count": 142,
   "metadata": {
    "code_folding": [],
    "hidden": true
   },
   "outputs": [],
   "source": [
    "hypers = dict(soap_type=\"RadialSpectrum\",\n",
    "              interaction_cutoff=3.5, \n",
    "              max_radial=6, \n",
    "              max_angular=6, \n",
    "              gaussian_sigma_constant=0.4,\n",
    "              gaussian_sigma_type=\"Constant\",\n",
    "              cutoff_smooth_width=0.5,\n",
    "              )\n",
    "soap = SOAP(**hypers)"
   ]
  },
  {
   "cell_type": "code",
   "execution_count": 144,
   "metadata": {
    "hidden": true
   },
   "outputs": [],
   "source": [
    "Nframes,ids,X = compute_representation(soap,frames)"
   ]
  },
  {
   "cell_type": "code",
   "execution_count": 147,
   "metadata": {
    "hidden": true
   },
   "outputs": [
    {
     "data": {
      "text/plain": [
       "(17743, 24)"
      ]
     },
     "execution_count": 147,
     "metadata": {},
     "output_type": "execute_result"
    }
   ],
   "source": [
    "X.shape"
   ]
  },
  {
   "cell_type": "markdown",
   "metadata": {},
   "source": [
    "# Learning the formation energies of small molecules"
   ]
  },
  {
   "cell_type": "code",
   "execution_count": 155,
   "metadata": {
    "code_folding": []
   },
   "outputs": [],
   "source": [
    "# Load the small molecules \n",
    "frames = read('./data/small_molecules-1000.xyz',':')"
   ]
  },
  {
   "cell_type": "markdown",
   "metadata": {
    "heading_collapsed": true
   },
   "source": [
    "## learning utilities"
   ]
  },
  {
   "cell_type": "code",
   "execution_count": null,
   "metadata": {
    "code_folding": [],
    "hidden": true
   },
   "outputs": [],
   "source": [
    "# !pip install numba\n",
    "from numba import njit,prange,void,float64,float32,int32,int64,vectorize,jit,config,threading_layer\n",
    "import numpy as np\n",
    "import math"
   ]
  },
  {
   "cell_type": "code",
   "execution_count": 175,
   "metadata": {
    "code_folding": [
     1,
     14,
     33,
     60,
     77,
     102
    ],
    "hidden": true
   },
   "outputs": [],
   "source": [
    "@jit(nopython=True,nogil=True,parallel=True)\n",
    "def get_strides(ids):\n",
    "    subids = np.unique(ids[:,0])\n",
    "    N = len(subids)\n",
    "    Nelem = np.zeros((N+1,),np.int32)\n",
    "    for ii in ids[:,0]:\n",
    "        Nelem[ii+1] += 1\n",
    "    Nelem = np.cumsum(Nelem)\n",
    "    return N,Nelem\n",
    "\n",
    "@jit(nopython=True,nogil=True,cache=True)\n",
    "def power_kernel(x,y,zeta):\n",
    "    return math.pow(np.vdot(x,y),zeta)\n",
    "@jit(nopython=True,nogil=True,parallel=True)\n",
    "def sum_power_diff_species(out, zeta, desc1, ids1, desc2, ids2):\n",
    "    N,Nelem = get_strides(ids1)\n",
    "    M,Melem = get_strides(ids2)\n",
    "    for iframe1 in prange(N):\n",
    "        st,nd = Nelem[iframe1],Nelem[iframe1+1]\n",
    "        d1 = desc1[st:nd]\n",
    "        sp1 = ids1[st:nd,1]\n",
    "        n = nd-st\n",
    "        for iframe2 in prange(M):\n",
    "            st2,nd2 = Melem[iframe2],Melem[iframe2+1]\n",
    "            d2 = desc2[st2:nd2]\n",
    "            sp2 = ids2[st2:nd2,1]\n",
    "            m = nd2-st2\n",
    "            for it in range(n):\n",
    "                for jt in range(m):\n",
    "                    if sp1[it] != sp2[jt]: continue\n",
    "                    out[iframe1,iframe2] += power_kernel(d1[it],d2[jt],zeta)\n",
    "\n",
    "@jit(nopython=True,nogil=True,parallel=True)\n",
    "def sum_power_diff_species_self(out, zeta, desc1, ids1):\n",
    "    N,Nelem = get_strides(ids1)\n",
    "    for iframe1 in prange(N):\n",
    "        st,nd = Nelem[iframe1],Nelem[iframe1+1]\n",
    "        d1 = desc1[st:nd]\n",
    "        sp1 = ids1[st:nd,1]\n",
    "        n = nd-st\n",
    "\n",
    "        for it in range(n):\n",
    "            for jt in range(n):\n",
    "                if sp1[it] != sp1[jt]: continue\n",
    "                out[iframe1,iframe1] += power_kernel(d1[it],d1[jt],zeta)\n",
    "\n",
    "        for iframe2 in range(iframe1+1,N):\n",
    "            st2,nd2 = Nelem[iframe2],Nelem[iframe2+1]\n",
    "            d2 = desc1[st2:nd2]\n",
    "            sp2 = ids1[st2:nd2,1]\n",
    "            m = nd2-st2\n",
    "            for it in range(n):\n",
    "                for jt in range(m):\n",
    "                    if sp1[it] != sp2[jt]: continue\n",
    "                    tmp = power_kernel(d1[it],d2[jt],zeta)\n",
    "                    out[iframe1,iframe2] += tmp\n",
    "                    out[iframe2,iframe1] += tmp\n",
    "\n",
    "                    \n",
    "@njit(parallel=True)\n",
    "def sum_power_no_species(out, zeta, desc1, ids1, desc2, ids2):\n",
    "    N,Nelem = get_strides(ids1)\n",
    "    M,Melem = get_strides(ids2)\n",
    "    for iframe1 in prange(N):\n",
    "        st,nd = Nelem[iframe1],Nelem[iframe1+1]\n",
    "        d1 = desc1[st:nd]\n",
    "        n = nd-st\n",
    "        for iframe2 in prange(M):\n",
    "            st2,nd2 = Melem[iframe2],Melem[iframe2+1]\n",
    "            d2 = desc2[st2:nd2]\n",
    "            m = nd2-st2\n",
    "            for it in range(n):\n",
    "                for jt in range(m):\n",
    "                    out[iframe1,iframe2] += power_kernel(d1[it],d2[jt],zeta)\n",
    "            out[iframe1,iframe2] /= n*m\n",
    "\n",
    "@jit(nopython=True,nogil=True,parallel=True)\n",
    "def sum_power_no_species_self(out, zeta, desc1, ids1):\n",
    "    N,Nelem = get_strides(ids1)\n",
    "    for iframe1 in prange(N):\n",
    "        st,nd = Nelem[iframe1],Nelem[iframe1+1]\n",
    "        d1 = desc1[st:nd]\n",
    "        sp1 = ids1[st:nd,1]\n",
    "        n = nd-st\n",
    "\n",
    "        for it in range(n):\n",
    "            for jt in range(n):\n",
    "                out[iframe1,iframe1] += power_kernel(d1[it],d1[jt],zeta)\n",
    "        out[iframe1,iframe1] /= n**2\n",
    "        for iframe2 in range(iframe1+1,N):\n",
    "            st2,nd2 = Nelem[iframe2],Nelem[iframe2+1]\n",
    "            d2 = desc1[st2:nd2]\n",
    "            sp2 = ids1[st2:nd2,1]\n",
    "            m = nd2-st2\n",
    "            for it in range(n):\n",
    "                for jt in range(m):\n",
    "                    tmp = power_kernel(d1[it],d2[jt],zeta)\n",
    "                    out[iframe1,iframe2] += tmp\n",
    "                    out[iframe2,iframe1] += tmp\n",
    "            out[iframe1,iframe2] /= n*m\n",
    "            out[iframe2,iframe1] /= n*m                    \n",
    "                    \n",
    "def get_ids(frames):\n",
    "    ids = []\n",
    "    for iframe,frame in enumerate(frames):\n",
    "        atom_types = frame.get_atomic_numbers()\n",
    "        ids.append(np.concatenate([iframe * np.ones((len(frame),1),int), atom_types[:,None]],axis=1))\n",
    "    ids = np.concatenate(ids)\n",
    "    return ids"
   ]
  },
  {
   "cell_type": "code",
   "execution_count": 181,
   "metadata": {
    "code_folding": [
     0,
     9,
     18,
     25,
     36,
     38,
     40,
     42,
     52,
     59,
     65,
     74,
     79
    ],
    "hidden": true
   },
   "outputs": [],
   "source": [
    "def compute_representation(representation,frames):\n",
    "    Nframes = len(frames)\n",
    "    ids = get_ids(frames)\n",
    "    expansions = soap.transform(frames)\n",
    "    X = expansions.get_feature_matrix().T\n",
    "    norm = np.linalg.norm(X,axis=1)\n",
    "    X /= norm[:,None]\n",
    "    return Nframes,ids,X\n",
    "\n",
    "def compute_kernel(zeta, Nframes1,ids1,X1, Nframes2=None,ids2=None,X2=None):\n",
    "    if Nframes2 is None:\n",
    "        kernel = np.zeros((Nframes1,Nframes1))\n",
    "        sum_power_no_species_self(kernel,zeta,X1,ids1)\n",
    "    else:\n",
    "        kernel = np.zeros((Nframes1,Nframes2))\n",
    "        sum_power_no_species(kernel,zeta,X1,ids1,X2,ids2)\n",
    "    return kernel\n",
    "\n",
    "def extract_energy(frames):\n",
    "    prop = [[]]*len(frames)\n",
    "    for ii,cc in enumerate(frames):\n",
    "        prop[ii] = cc.info['dft_formation_energy_per_atom_in_eV']\n",
    "    y = np.array(prop)\n",
    "    return y\n",
    "\n",
    "def split_dataset(frames, test_fraction, seed=10):\n",
    "    N = len(frames)\n",
    "    ids = np.arange(N)\n",
    "    np.random.seed(seed)\n",
    "    np.random.shuffle(ids)\n",
    "    Ntrain = int(N*test_fraction)\n",
    "    train = ids[:Ntrain]\n",
    "    test = ids[Ntrain:]\n",
    "    targets = extract_energy(frames)\n",
    "    return [frames[ii] for ii in train],targets[train],[frames[ii] for ii in test],targets[test]\n",
    "\n",
    "def get_mae(ypred,y):\n",
    "    return np.mean(np.abs(ypred-y))\n",
    "def get_rmse(ypred,y):\n",
    "    return np.sqrt(np.mean((ypred-y)**2))\n",
    "def get_sup(ypred,y):\n",
    "    return np.amax(np.abs((ypred-y)))\n",
    "def get_r2(y_pred,y_true):\n",
    "    weight = 1\n",
    "    sample_weight = None\n",
    "    numerator = (weight * (y_true - y_pred) ** 2).sum(axis=0,dtype=np.float64)\n",
    "    denominator = (weight * (y_true - np.average(\n",
    "        y_true, axis=0, weights=sample_weight)) ** 2).sum(axis=0,dtype=np.float64)\n",
    "    output_scores = 1 - (numerator / denominator)\n",
    "    return np.mean(output_scores)\n",
    "\n",
    "\n",
    "score_func = dict(\n",
    "    MAE=get_mae,\n",
    "    RMSE=get_rmse,\n",
    "    SUP=get_sup,\n",
    "    R2=get_r2,\n",
    ")\n",
    "\n",
    "def get_score(ypred,y):\n",
    "    scores = {}\n",
    "    for k,func in score_func.items():\n",
    "        scores[k] = func(ypred,y)\n",
    "    return scores\n",
    "\n",
    "class KRR(object):\n",
    "    def __init__(self,zeta,weights,representation,Nframes,ids,X):\n",
    "        self.weights = weights\n",
    "        self.representation = representation\n",
    "        self.zeta = zeta\n",
    "        self.Nframes = Nframes\n",
    "        self.ids = ids\n",
    "        self.X = X\n",
    "        \n",
    "    def predict(self,frames):\n",
    "        Nframes,ids,X = compute_representation(self.representation,frames)\n",
    "        kernel = compute_kernel(self.zeta , self.Nframes, self.ids, self.X,Nframes,ids,X)\n",
    "        return np.dot(self.weights,kernel)\n",
    "    \n",
    "def train_krr_model(zeta,Lambda,representation,frames,y,jitter=1e-8):\n",
    "    Nframes,ids,X = compute_representation(representation,frames)\n",
    "    kernel = compute_kernel(zeta,Nframes,ids,X)    \n",
    "    # adjust the kernel so that it is properly scaled\n",
    "    delta = np.std(y) / np.mean(kernel.diagonal())\n",
    "    kernel[np.diag_indices_from(kernel)] += Lambda**2 / delta **2 + jitter\n",
    "    # train the krr model\n",
    "    weights = np.linalg.solve(kernel,y)\n",
    "    model = KRR(zeta, weights,representation,Nframes,ids,X)\n",
    "    return model,kernel\n",
    "\n"
   ]
  },
  {
   "cell_type": "markdown",
   "metadata": {
    "heading_collapsed": true
   },
   "source": [
    "## With the Radial spectrum"
   ]
  },
  {
   "cell_type": "code",
   "execution_count": 194,
   "metadata": {
    "hidden": true
   },
   "outputs": [],
   "source": [
    "hypers = dict(soap_type=\"RadialSpectrum\",\n",
    "              interaction_cutoff=3.5, \n",
    "              max_radial=6, \n",
    "              max_angular=0, \n",
    "              gaussian_sigma_constant=0.4,\n",
    "              gaussian_sigma_type=\"Constant\",\n",
    "              cutoff_smooth_width=0.5,\n",
    "              )\n",
    "soap = SOAP(**hypers)"
   ]
  },
  {
   "cell_type": "code",
   "execution_count": 195,
   "metadata": {
    "hidden": true
   },
   "outputs": [],
   "source": [
    "frames_train, y_train, frames_test, y_test = split_dataset(subset,0.8)"
   ]
  },
  {
   "cell_type": "code",
   "execution_count": 201,
   "metadata": {
    "hidden": true
   },
   "outputs": [],
   "source": [
    "zeta = 2\n",
    "Lambda = 5e-4\n",
    "krr,k = train_krr_model(zeta, Lambda, soap, frames_train, y_train)"
   ]
  },
  {
   "cell_type": "code",
   "execution_count": 202,
   "metadata": {
    "hidden": true
   },
   "outputs": [
    {
     "data": {
      "text/plain": [
       "{'MAE': 0.012005551492167105,\n",
       " 'RMSE': 0.01658363680439145,\n",
       " 'SUP': 0.059362219406213335,\n",
       " 'R2': 0.992299387594359}"
      ]
     },
     "execution_count": 202,
     "metadata": {},
     "output_type": "execute_result"
    }
   ],
   "source": [
    "y_pred = krr.predict(frames_test)\n",
    "get_score(y_pred, y_test)"
   ]
  },
  {
   "cell_type": "code",
   "execution_count": 203,
   "metadata": {
    "hidden": true,
    "scrolled": true
   },
   "outputs": [
    {
     "data": {
      "text/plain": [
       "[<matplotlib.lines.Line2D at 0x7f997c1cdb70>]"
      ]
     },
     "execution_count": 203,
     "metadata": {},
     "output_type": "execute_result"
    },
    {
     "data": {
      "image/png": "[encoded data removed]",
      "text/plain": [
       "<Figure size 432x288 with 1 Axes>"
      ]
     },
     "metadata": {
      "needs_background": "light"
     },
     "output_type": "display_data"
    }
   ],
   "source": [
    "plt.plot(y_pred, y_test,'o')"
   ]
  },
  {
   "cell_type": "markdown",
   "metadata": {},
   "source": [
    "## With the  Power spectrum"
   ]
  },
  {
   "cell_type": "code",
   "execution_count": 204,
   "metadata": {},
   "outputs": [],
   "source": [
    "hypers = dict(soap_type=\"PowerSpectrum\",\n",
    "              interaction_cutoff=3.5, \n",
    "              max_radial=6, \n",
    "              max_angular=4, \n",
    "              gaussian_sigma_constant=0.4,\n",
    "              gaussian_sigma_type=\"Constant\",\n",
    "              cutoff_smooth_width=0.5,\n",
    "              )\n",
    "soap = SOAP(**hypers)"
   ]
  },
  {
   "cell_type": "code",
   "execution_count": 205,
   "metadata": {},
   "outputs": [],
   "source": [
    "frames_train, y_train, frames_test, y_test = split_dataset(subset,0.8)"
   ]
  },
  {
   "cell_type": "code",
   "execution_count": 206,
   "metadata": {},
   "outputs": [],
   "source": [
    "zeta = 2\n",
    "Lambda = 5e-3\n",
    "krr,k = train_krr_model(zeta, Lambda, soap, frames_train, y_train)"
   ]
  },
  {
   "cell_type": "code",
   "execution_count": 207,
   "metadata": {
    "scrolled": true
   },
   "outputs": [
    {
     "data": {
      "text/plain": [
       "{'MAE': 0.011644755962830617,\n",
       " 'RMSE': 0.018344216429559114,\n",
       " 'SUP': 0.14826361768318286,\n",
       " 'R2': 0.9905775456856754}"
      ]
     },
     "execution_count": 207,
     "metadata": {},
     "output_type": "execute_result"
    }
   ],
   "source": [
    "y_pred = krr.predict(frames_test)\n",
    "get_score(y_pred, y_test)"
   ]
  },
  {
   "cell_type": "code",
   "execution_count": 208,
   "metadata": {},
   "outputs": [
    {
     "data": {
      "text/plain": [
       "[<matplotlib.lines.Line2D at 0x7f9985f11668>]"
      ]
     },
     "execution_count": 208,
     "metadata": {},
     "output_type": "execute_result"
    },
    {
     "data": {
      "image/png": "[encoded data removed]",
      "text/plain": [
       "<Figure size 432x288 with 1 Axes>"
      ]
     },
     "metadata": {
      "needs_background": "light"
     },
     "output_type": "display_data"
    }
   ],
   "source": [
    "plt.plot(y_pred, y_test,'o')"
   ]
  },
  {
   "cell_type": "code",
   "execution_count": null,
   "metadata": {},
   "outputs": [],
   "source": []
  }
 ],
 "metadata": {
  "celltoolbar": "Initialization Cell",
  "kernelspec": {
   "display_name": "py36",
   "language": "python",
   "name": "py36"
  },
  "language_info": {
   "codemirror_mode": {
    "name": "ipython",
    "version": 3
   },
   "file_extension": ".py",
   "mimetype": "text/x-python",
   "name": "python",
   "nbconvert_exporter": "python",
   "pygments_lexer": "ipython3",
   "version": "3.6.8"
  },
  "toc": {
   "base_numbering": 1,
   "nav_menu": {
    "height": "12px",
    "width": "252px"
   },
   "number_sections": true,
   "sideBar": true,
   "skip_h1_title": false,
   "title_cell": "Table of Contents",
   "title_sidebar": "Contents",
   "toc_cell": false,
   "toc_position": {},
   "toc_section_display": "block",
   "toc_window_display": false
  }
 },
 "nbformat": 4,
 "nbformat_minor": 2
}
