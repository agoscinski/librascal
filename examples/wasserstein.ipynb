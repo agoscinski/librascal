{
 "cells": [
  {
   "cell_type": "markdown",
   "metadata": {},
   "source": [
    "To install rascal:\n",
    "(NOTE: See the top-level README for the most up-to-date installation instructions.)\n",
    "+ mkdir ../build \n",
    "+ cd build\n",
    "+ cmake -DCMAKE_BUILD_TYPE=Release -DBUILD_TESTS=ON ..\n",
    "+ make -j 4\n",
    "+ make install"
   ]
  },
  {
   "cell_type": "markdown",
   "metadata": {},
   "source": [
    "# Setup"
   ]
  },
  {
   "cell_type": "code",
   "execution_count": 3,
   "metadata": {
    "init_cell": true
   },
   "outputs": [],
   "source": [
    "%matplotlib notebook\n",
    "from matplotlib import pylab as plt\n",
    "import os, sys"
   ]
  },
  {
   "cell_type": "code",
   "execution_count": 4,
   "metadata": {
    "init_cell": true,
    "tags": [
     "hide_input"
    ]
   },
   "outputs": [],
   "source": [
    "# Ensure the notebook is running in the proper directory\n",
    "# (only needed when compiling from sphinx)\n",
    "if \"docs/source/tutorials\" in os.getcwd():\n",
    "    os.chdir(\"../../../examples\")\n",
    "sys.path.insert(0,\"../build/\")"
   ]
  },
  {
   "cell_type": "code",
   "execution_count": 5,
   "metadata": {
    "init_cell": true
   },
   "outputs": [],
   "source": [
    "import time\n",
    "import rascal\n",
    "import json\n",
    "\n",
    "import ase\n",
    "from ase.io import read, write\n",
    "from ase.build import make_supercell\n",
    "from ase.visualize import view\n",
    "import numpy as np\n",
    "import sys\n",
    "#import pandas\n",
    "import scipy\n",
    "import json\n",
    "\n",
    "from rascal.representations import SphericalInvariants as SOAP"
   ]
  },
  {
   "cell_type": "code",
   "execution_count": 6,
   "metadata": {},
   "outputs": [],
   "source": [
    "import sklearn"
   ]
  },
  {
   "cell_type": "code",
   "execution_count": null,
   "metadata": {},
   "outputs": [],
   "source": []
  },
  {
   "cell_type": "code",
   "execution_count": null,
   "metadata": {},
   "outputs": [],
   "source": []
  },
  {
   "cell_type": "code",
   "execution_count": 245,
   "metadata": {},
   "outputs": [],
   "source": [
    "from scipy.special import gamma, gammainc\n",
    "\n",
    "# Basis functions\n",
    "# Currently we only have implemented:\n",
    "# - GTO with Constant sigma on\n",
    "# - DVR with ???\n",
    "# for now only GTO is supported for tests\n",
    "def basis_function(radial_basis=\"GTO\", gaussian_sigma_type=\"Constant\", gaussian_sigma_constant=0.4):\n",
    "    if radial_basis == \"GTO\":\n",
    "        return gto_basis_function(gaussian_sigma_type, gaussian_sigma_constant)\n",
    "    else:\n",
    "        raise NotImplementedError(\"The only supported basis function is GTO at the moment\")\n",
    "# R^{GTO}_{n}(r) = \\mathcal{N}_n\\ r^{n} \\exp[-br^2]\n",
    "def gto_basis_function(gaussian_sigma_type=\"Constant\", gaussian_sigma_constant=0.4):\n",
    "    if gaussian_sigma_type == \"Constant\":\n",
    "        return gto_basis_constant_function(sigma=gaussian_sigma_constant)\n",
    "    else:\n",
    "        raise NotImplementedError(\"The only supported gaussian sigma type is Constant at the moment\")\n",
    "\n",
    "\n",
    "# \\mathcal{N}_n^2 = \\frac{2}{\\sigma_n^{2n + 3}\\Gamma(n + 3/2)}.\n",
    "def gaussian_sigma_constant_coeffs(cutoff, n, max_n):\n",
    "    sigma = np.sqrt(n) * cutoff / max_n\n",
    "    b = 1/(2*sigma**2)\n",
    "    # not working\n",
    "    # from doc\n",
    "    #N = np.sqrt( 2/((sigma)**(2*n+3) *gamma(n+3/2)) )    \n",
    "    # from rascal c++\n",
    "    #N = 0.25 * np.sqrt( 2/((sigma)**(2*n+3) *gamma(n+1.5)) )    \n",
    "    # from wolfram alpha\n",
    "    N = 1/( np.sqrt(2**(n+1)) * sigma**(n+1) *gamma((n+1)/2) )\n",
    "    return N, b\n",
    "# R^{GTO}_{n}(r) = \\mathcal{N}_n\\ r^{n} \\exp[-br^2]\n",
    "def gaussian_sigma_constant(N, b, n, r):\n",
    "    return N * r**n * np.exp(-b*r**2)"
   ]
  },
  {
   "cell_type": "code",
   "execution_count": 246,
   "metadata": {},
   "outputs": [],
   "source": [
    "from scipy import integrate\n",
    "#interaction_cutoff\n",
    "def integrate_env(bf, interaction_cutoff):    \n",
    "    return integrate.quad(bf, -0.0001, interaction_cutoff)"
   ]
  },
  {
   "cell_type": "code",
   "execution_count": 247,
   "metadata": {},
   "outputs": [
    {
     "name": "stdout",
     "output_type": "stream",
     "text": [
      "(0.5, 3.1372510321344655e-12)\n"
     ]
    },
    {
     "data": {
      "application/javascript": [
       "/* Put everything inside the global mpl namespace */\n",
       "window.mpl = {};\n",
       "\n",
       "\n",
       "mpl.get_websocket_type = function() {\n",
       "    if (typeof(WebSocket) !== 'undefined') {\n",
       "        return WebSocket;\n",
       "    } else if (typeof(MozWebSocket) !== 'undefined') {\n",
       "        return MozWebSocket;\n",
       "    } else {\n",
       "        alert('Your browser does not have WebSocket support.' +\n",
       "              'Please try Chrome, Safari or Firefox ≥ 6. ' +\n",
       "              'Firefox 4 and 5 are also supported but you ' +\n",
       "              'have to enable WebSockets in about:config.');\n",
       "    };\n",
       "}\n",
       "\n",
       "mpl.figure = function(figure_id, websocket, ondownload, parent_element) {\n",
       "    this.id = figure_id;\n",
       "\n",
       "    this.ws = websocket;\n",
       "\n",
       "    this.supports_binary = (this.ws.binaryType != undefined);\n",
       "\n",
       "    if (!this.supports_binary) {\n",
       "        var warnings = document.getElementById(\"mpl-warnings\");\n",
       "        if (warnings) {\n",
       "            warnings.style.display = 'block';\n",
       "            warnings.textContent = (\n",
       "                \"This browser does not support binary websocket messages. \" +\n",
       "                    \"Performance may be slow.\");\n",
       "        }\n",
       "    }\n",
       "\n",
       "    this.imageObj = new Image();\n",
       "\n",
       "    this.context = undefined;\n",
       "    this.message = undefined;\n",
       "    this.canvas = undefined;\n",
       "    this.rubberband_canvas = undefined;\n",
       "    this.rubberband_context = undefined;\n",
       "    this.format_dropdown = undefined;\n",
       "\n",
       "    this.image_mode = 'full';\n",
       "\n",
       "    this.root = $('<div/>');\n",
       "    this._root_extra_style(this.root)\n",
       "    this.root.attr('style', 'display: inline-block');\n",
       "\n",
       "    $(parent_element).append(this.root);\n",
       "\n",
       "    this._init_header(this);\n",
       "    this._init_canvas(this);\n",
       "    this._init_toolbar(this);\n",
       "\n",
       "    var fig = this;\n",
       "\n",
       "    this.waiting = false;\n",
       "\n",
       "    this.ws.onopen =  function () {\n",
       "            fig.send_message(\"supports_binary\", {value: fig.supports_binary});\n",
       "            fig.send_message(\"send_image_mode\", {});\n",
       "            if (mpl.ratio != 1) {\n",
       "                fig.send_message(\"set_dpi_ratio\", {'dpi_ratio': mpl.ratio});\n",
       "            }\n",
       "            fig.send_message(\"refresh\", {});\n",
       "        }\n",
       "\n",
       "    this.imageObj.onload = function() {\n",
       "            if (fig.image_mode == 'full') {\n",
       "                // Full images could contain transparency (where diff images\n",
       "                // almost always do), so we need to clear the canvas so that\n",
       "                // there is no ghosting.\n",
       "                fig.context.clearRect(0, 0, fig.canvas.width, fig.canvas.height);\n",
       "            }\n",
       "            fig.context.drawImage(fig.imageObj, 0, 0);\n",
       "        };\n",
       "\n",
       "    this.imageObj.onunload = function() {\n",
       "        fig.ws.close();\n",
       "    }\n",
       "\n",
       "    this.ws.onmessage = this._make_on_message_function(this);\n",
       "\n",
       "    this.ondownload = ondownload;\n",
       "}\n",
       "\n",
       "mpl.figure.prototype._init_header = function() {\n",
       "    var titlebar = $(\n",
       "        '<div class=\"ui-dialog-titlebar ui-widget-header ui-corner-all ' +\n",
       "        'ui-helper-clearfix\"/>');\n",
       "    var titletext = $(\n",
       "        '<div class=\"ui-dialog-title\" style=\"width: 100%; ' +\n",
       "        'text-align: center; padding: 3px;\"/>');\n",
       "    titlebar.append(titletext)\n",
       "    this.root.append(titlebar);\n",
       "    this.header = titletext[0];\n",
       "}\n",
       "\n",
       "\n",
       "\n",
       "mpl.figure.prototype._canvas_extra_style = function(canvas_div) {\n",
       "\n",
       "}\n",
       "\n",
       "\n",
       "mpl.figure.prototype._root_extra_style = function(canvas_div) {\n",
       "\n",
       "}\n",
       "\n",
       "mpl.figure.prototype._init_canvas = function() {\n",
       "    var fig = this;\n",
       "\n",
       "    var canvas_div = $('<div/>');\n",
       "\n",
       "    canvas_div.attr('style', 'position: relative; clear: both; outline: 0');\n",
       "\n",
       "    function canvas_keyboard_event(event) {\n",
       "        return fig.key_event(event, event['data']);\n",
       "    }\n",
       "\n",
       "    canvas_div.keydown('key_press', canvas_keyboard_event);\n",
       "    canvas_div.keyup('key_release', canvas_keyboard_event);\n",
       "    this.canvas_div = canvas_div\n",
       "    this._canvas_extra_style(canvas_div)\n",
       "    this.root.append(canvas_div);\n",
       "\n",
       "    var canvas = $('<canvas/>');\n",
       "    canvas.addClass('mpl-canvas');\n",
       "    canvas.attr('style', \"left: 0; top: 0; z-index: 0; outline: 0\")\n",
       "\n",
       "    this.canvas = canvas[0];\n",
       "    this.context = canvas[0].getContext(\"2d\");\n",
       "\n",
       "    var backingStore = this.context.backingStorePixelRatio ||\n",
       "\tthis.context.webkitBackingStorePixelRatio ||\n",
       "\tthis.context.mozBackingStorePixelRatio ||\n",
       "\tthis.context.msBackingStorePixelRatio ||\n",
       "\tthis.context.oBackingStorePixelRatio ||\n",
       "\tthis.context.backingStorePixelRatio || 1;\n",
       "\n",
       "    mpl.ratio = (window.devicePixelRatio || 1) / backingStore;\n",
       "\n",
       "    var rubberband = $('<canvas/>');\n",
       "    rubberband.attr('style', \"position: absolute; left: 0; top: 0; z-index: 1;\")\n",
       "\n",
       "    var pass_mouse_events = true;\n",
       "\n",
       "    canvas_div.resizable({\n",
       "        start: function(event, ui) {\n",
       "            pass_mouse_events = false;\n",
       "        },\n",
       "        resize: function(event, ui) {\n",
       "            fig.request_resize(ui.size.width, ui.size.height);\n",
       "        },\n",
       "        stop: function(event, ui) {\n",
       "            pass_mouse_events = true;\n",
       "            fig.request_resize(ui.size.width, ui.size.height);\n",
       "        },\n",
       "    });\n",
       "\n",
       "    function mouse_event_fn(event) {\n",
       "        if (pass_mouse_events)\n",
       "            return fig.mouse_event(event, event['data']);\n",
       "    }\n",
       "\n",
       "    rubberband.mousedown('button_press', mouse_event_fn);\n",
       "    rubberband.mouseup('button_release', mouse_event_fn);\n",
       "    // Throttle sequential mouse events to 1 every 20ms.\n",
       "    rubberband.mousemove('motion_notify', mouse_event_fn);\n",
       "\n",
       "    rubberband.mouseenter('figure_enter', mouse_event_fn);\n",
       "    rubberband.mouseleave('figure_leave', mouse_event_fn);\n",
       "\n",
       "    canvas_div.on(\"wheel\", function (event) {\n",
       "        event = event.originalEvent;\n",
       "        event['data'] = 'scroll'\n",
       "        if (event.deltaY < 0) {\n",
       "            event.step = 1;\n",
       "        } else {\n",
       "            event.step = -1;\n",
       "        }\n",
       "        mouse_event_fn(event);\n",
       "    });\n",
       "\n",
       "    canvas_div.append(canvas);\n",
       "    canvas_div.append(rubberband);\n",
       "\n",
       "    this.rubberband = rubberband;\n",
       "    this.rubberband_canvas = rubberband[0];\n",
       "    this.rubberband_context = rubberband[0].getContext(\"2d\");\n",
       "    this.rubberband_context.strokeStyle = \"#000000\";\n",
       "\n",
       "    this._resize_canvas = function(width, height) {\n",
       "        // Keep the size of the canvas, canvas container, and rubber band\n",
       "        // canvas in synch.\n",
       "        canvas_div.css('width', width)\n",
       "        canvas_div.css('height', height)\n",
       "\n",
       "        canvas.attr('width', width * mpl.ratio);\n",
       "        canvas.attr('height', height * mpl.ratio);\n",
       "        canvas.attr('style', 'width: ' + width + 'px; height: ' + height + 'px;');\n",
       "\n",
       "        rubberband.attr('width', width);\n",
       "        rubberband.attr('height', height);\n",
       "    }\n",
       "\n",
       "    // Set the figure to an initial 600x600px, this will subsequently be updated\n",
       "    // upon first draw.\n",
       "    this._resize_canvas(600, 600);\n",
       "\n",
       "    // Disable right mouse context menu.\n",
       "    $(this.rubberband_canvas).bind(\"contextmenu\",function(e){\n",
       "        return false;\n",
       "    });\n",
       "\n",
       "    function set_focus () {\n",
       "        canvas.focus();\n",
       "        canvas_div.focus();\n",
       "    }\n",
       "\n",
       "    window.setTimeout(set_focus, 100);\n",
       "}\n",
       "\n",
       "mpl.figure.prototype._init_toolbar = function() {\n",
       "    var fig = this;\n",
       "\n",
       "    var nav_element = $('<div/>')\n",
       "    nav_element.attr('style', 'width: 100%');\n",
       "    this.root.append(nav_element);\n",
       "\n",
       "    // Define a callback function for later on.\n",
       "    function toolbar_event(event) {\n",
       "        return fig.toolbar_button_onclick(event['data']);\n",
       "    }\n",
       "    function toolbar_mouse_event(event) {\n",
       "        return fig.toolbar_button_onmouseover(event['data']);\n",
       "    }\n",
       "\n",
       "    for(var toolbar_ind in mpl.toolbar_items) {\n",
       "        var name = mpl.toolbar_items[toolbar_ind][0];\n",
       "        var tooltip = mpl.toolbar_items[toolbar_ind][1];\n",
       "        var image = mpl.toolbar_items[toolbar_ind][2];\n",
       "        var method_name = mpl.toolbar_items[toolbar_ind][3];\n",
       "\n",
       "        if (!name) {\n",
       "            // put a spacer in here.\n",
       "            continue;\n",
       "        }\n",
       "        var button = $('<button/>');\n",
       "        button.addClass('ui-button ui-widget ui-state-default ui-corner-all ' +\n",
       "                        'ui-button-icon-only');\n",
       "        button.attr('role', 'button');\n",
       "        button.attr('aria-disabled', 'false');\n",
       "        button.click(method_name, toolbar_event);\n",
       "        button.mouseover(tooltip, toolbar_mouse_event);\n",
       "\n",
       "        var icon_img = $('<span/>');\n",
       "        icon_img.addClass('ui-button-icon-primary ui-icon');\n",
       "        icon_img.addClass(image);\n",
       "        icon_img.addClass('ui-corner-all');\n",
       "\n",
       "        var tooltip_span = $('<span/>');\n",
       "        tooltip_span.addClass('ui-button-text');\n",
       "        tooltip_span.html(tooltip);\n",
       "\n",
       "        button.append(icon_img);\n",
       "        button.append(tooltip_span);\n",
       "\n",
       "        nav_element.append(button);\n",
       "    }\n",
       "\n",
       "    var fmt_picker_span = $('<span/>');\n",
       "\n",
       "    var fmt_picker = $('<select/>');\n",
       "    fmt_picker.addClass('mpl-toolbar-option ui-widget ui-widget-content');\n",
       "    fmt_picker_span.append(fmt_picker);\n",
       "    nav_element.append(fmt_picker_span);\n",
       "    this.format_dropdown = fmt_picker[0];\n",
       "\n",
       "    for (var ind in mpl.extensions) {\n",
       "        var fmt = mpl.extensions[ind];\n",
       "        var option = $(\n",
       "            '<option/>', {selected: fmt === mpl.default_extension}).html(fmt);\n",
       "        fmt_picker.append(option)\n",
       "    }\n",
       "\n",
       "    // Add hover states to the ui-buttons\n",
       "    $( \".ui-button\" ).hover(\n",
       "        function() { $(this).addClass(\"ui-state-hover\");},\n",
       "        function() { $(this).removeClass(\"ui-state-hover\");}\n",
       "    );\n",
       "\n",
       "    var status_bar = $('<span class=\"mpl-message\"/>');\n",
       "    nav_element.append(status_bar);\n",
       "    this.message = status_bar[0];\n",
       "}\n",
       "\n",
       "mpl.figure.prototype.request_resize = function(x_pixels, y_pixels) {\n",
       "    // Request matplotlib to resize the figure. Matplotlib will then trigger a resize in the client,\n",
       "    // which will in turn request a refresh of the image.\n",
       "    this.send_message('resize', {'width': x_pixels, 'height': y_pixels});\n",
       "}\n",
       "\n",
       "mpl.figure.prototype.send_message = function(type, properties) {\n",
       "    properties['type'] = type;\n",
       "    properties['figure_id'] = this.id;\n",
       "    this.ws.send(JSON.stringify(properties));\n",
       "}\n",
       "\n",
       "mpl.figure.prototype.send_draw_message = function() {\n",
       "    if (!this.waiting) {\n",
       "        this.waiting = true;\n",
       "        this.ws.send(JSON.stringify({type: \"draw\", figure_id: this.id}));\n",
       "    }\n",
       "}\n",
       "\n",
       "\n",
       "mpl.figure.prototype.handle_save = function(fig, msg) {\n",
       "    var format_dropdown = fig.format_dropdown;\n",
       "    var format = format_dropdown.options[format_dropdown.selectedIndex].value;\n",
       "    fig.ondownload(fig, format);\n",
       "}\n",
       "\n",
       "\n",
       "mpl.figure.prototype.handle_resize = function(fig, msg) {\n",
       "    var size = msg['size'];\n",
       "    if (size[0] != fig.canvas.width || size[1] != fig.canvas.height) {\n",
       "        fig._resize_canvas(size[0], size[1]);\n",
       "        fig.send_message(\"refresh\", {});\n",
       "    };\n",
       "}\n",
       "\n",
       "mpl.figure.prototype.handle_rubberband = function(fig, msg) {\n",
       "    var x0 = msg['x0'] / mpl.ratio;\n",
       "    var y0 = (fig.canvas.height - msg['y0']) / mpl.ratio;\n",
       "    var x1 = msg['x1'] / mpl.ratio;\n",
       "    var y1 = (fig.canvas.height - msg['y1']) / mpl.ratio;\n",
       "    x0 = Math.floor(x0) + 0.5;\n",
       "    y0 = Math.floor(y0) + 0.5;\n",
       "    x1 = Math.floor(x1) + 0.5;\n",
       "    y1 = Math.floor(y1) + 0.5;\n",
       "    var min_x = Math.min(x0, x1);\n",
       "    var min_y = Math.min(y0, y1);\n",
       "    var width = Math.abs(x1 - x0);\n",
       "    var height = Math.abs(y1 - y0);\n",
       "\n",
       "    fig.rubberband_context.clearRect(\n",
       "        0, 0, fig.canvas.width, fig.canvas.height);\n",
       "\n",
       "    fig.rubberband_context.strokeRect(min_x, min_y, width, height);\n",
       "}\n",
       "\n",
       "mpl.figure.prototype.handle_figure_label = function(fig, msg) {\n",
       "    // Updates the figure title.\n",
       "    fig.header.textContent = msg['label'];\n",
       "}\n",
       "\n",
       "mpl.figure.prototype.handle_cursor = function(fig, msg) {\n",
       "    var cursor = msg['cursor'];\n",
       "    switch(cursor)\n",
       "    {\n",
       "    case 0:\n",
       "        cursor = 'pointer';\n",
       "        break;\n",
       "    case 1:\n",
       "        cursor = 'default';\n",
       "        break;\n",
       "    case 2:\n",
       "        cursor = 'crosshair';\n",
       "        break;\n",
       "    case 3:\n",
       "        cursor = 'move';\n",
       "        break;\n",
       "    }\n",
       "    fig.rubberband_canvas.style.cursor = cursor;\n",
       "}\n",
       "\n",
       "mpl.figure.prototype.handle_message = function(fig, msg) {\n",
       "    fig.message.textContent = msg['message'];\n",
       "}\n",
       "\n",
       "mpl.figure.prototype.handle_draw = function(fig, msg) {\n",
       "    // Request the server to send over a new figure.\n",
       "    fig.send_draw_message();\n",
       "}\n",
       "\n",
       "mpl.figure.prototype.handle_image_mode = function(fig, msg) {\n",
       "    fig.image_mode = msg['mode'];\n",
       "}\n",
       "\n",
       "mpl.figure.prototype.updated_canvas_event = function() {\n",
       "    // Called whenever the canvas gets updated.\n",
       "    this.send_message(\"ack\", {});\n",
       "}\n",
       "\n",
       "// A function to construct a web socket function for onmessage handling.\n",
       "// Called in the figure constructor.\n",
       "mpl.figure.prototype._make_on_message_function = function(fig) {\n",
       "    return function socket_on_message(evt) {\n",
       "        if (evt.data instanceof Blob) {\n",
       "            /* FIXME: We get \"Resource interpreted as Image but\n",
       "             * transferred with MIME type text/plain:\" errors on\n",
       "             * Chrome.  But how to set the MIME type?  It doesn't seem\n",
       "             * to be part of the websocket stream */\n",
       "            evt.data.type = \"image/png\";\n",
       "\n",
       "            /* Free the memory for the previous frames */\n",
       "            if (fig.imageObj.src) {\n",
       "                (window.URL || window.webkitURL).revokeObjectURL(\n",
       "                    fig.imageObj.src);\n",
       "            }\n",
       "\n",
       "            fig.imageObj.src = (window.URL || window.webkitURL).createObjectURL(\n",
       "                evt.data);\n",
       "            fig.updated_canvas_event();\n",
       "            fig.waiting = false;\n",
       "            return;\n",
       "        }\n",
       "        else if (typeof evt.data === 'string' && evt.data.slice(0, 21) == \"data:image/png;base64\") {\n",
       "            fig.imageObj.src = evt.data;\n",
       "            fig.updated_canvas_event();\n",
       "            fig.waiting = false;\n",
       "            return;\n",
       "        }\n",
       "\n",
       "        var msg = JSON.parse(evt.data);\n",
       "        var msg_type = msg['type'];\n",
       "\n",
       "        // Call the  \"handle_{type}\" callback, which takes\n",
       "        // the figure and JSON message as its only arguments.\n",
       "        try {\n",
       "            var callback = fig[\"handle_\" + msg_type];\n",
       "        } catch (e) {\n",
       "            console.log(\"No handler for the '\" + msg_type + \"' message type: \", msg);\n",
       "            return;\n",
       "        }\n",
       "\n",
       "        if (callback) {\n",
       "            try {\n",
       "                // console.log(\"Handling '\" + msg_type + \"' message: \", msg);\n",
       "                callback(fig, msg);\n",
       "            } catch (e) {\n",
       "                console.log(\"Exception inside the 'handler_\" + msg_type + \"' callback:\", e, e.stack, msg);\n",
       "            }\n",
       "        }\n",
       "    };\n",
       "}\n",
       "\n",
       "// from http://stackoverflow.com/questions/1114465/getting-mouse-location-in-canvas\n",
       "mpl.findpos = function(e) {\n",
       "    //this section is from http://www.quirksmode.org/js/events_properties.html\n",
       "    var targ;\n",
       "    if (!e)\n",
       "        e = window.event;\n",
       "    if (e.target)\n",
       "        targ = e.target;\n",
       "    else if (e.srcElement)\n",
       "        targ = e.srcElement;\n",
       "    if (targ.nodeType == 3) // defeat Safari bug\n",
       "        targ = targ.parentNode;\n",
       "\n",
       "    // jQuery normalizes the pageX and pageY\n",
       "    // pageX,Y are the mouse positions relative to the document\n",
       "    // offset() returns the position of the element relative to the document\n",
       "    var x = e.pageX - $(targ).offset().left;\n",
       "    var y = e.pageY - $(targ).offset().top;\n",
       "\n",
       "    return {\"x\": x, \"y\": y};\n",
       "};\n",
       "\n",
       "/*\n",
       " * return a copy of an object with only non-object keys\n",
       " * we need this to avoid circular references\n",
       " * http://stackoverflow.com/a/24161582/3208463\n",
       " */\n",
       "function simpleKeys (original) {\n",
       "  return Object.keys(original).reduce(function (obj, key) {\n",
       "    if (typeof original[key] !== 'object')\n",
       "        obj[key] = original[key]\n",
       "    return obj;\n",
       "  }, {});\n",
       "}\n",
       "\n",
       "mpl.figure.prototype.mouse_event = function(event, name) {\n",
       "    var canvas_pos = mpl.findpos(event)\n",
       "\n",
       "    if (name === 'button_press')\n",
       "    {\n",
       "        this.canvas.focus();\n",
       "        this.canvas_div.focus();\n",
       "    }\n",
       "\n",
       "    var x = canvas_pos.x * mpl.ratio;\n",
       "    var y = canvas_pos.y * mpl.ratio;\n",
       "\n",
       "    this.send_message(name, {x: x, y: y, button: event.button,\n",
       "                             step: event.step,\n",
       "                             guiEvent: simpleKeys(event)});\n",
       "\n",
       "    /* This prevents the web browser from automatically changing to\n",
       "     * the text insertion cursor when the button is pressed.  We want\n",
       "     * to control all of the cursor setting manually through the\n",
       "     * 'cursor' event from matplotlib */\n",
       "    event.preventDefault();\n",
       "    return false;\n",
       "}\n",
       "\n",
       "mpl.figure.prototype._key_event_extra = function(event, name) {\n",
       "    // Handle any extra behaviour associated with a key event\n",
       "}\n",
       "\n",
       "mpl.figure.prototype.key_event = function(event, name) {\n",
       "\n",
       "    // Prevent repeat events\n",
       "    if (name == 'key_press')\n",
       "    {\n",
       "        if (event.which === this._key)\n",
       "            return;\n",
       "        else\n",
       "            this._key = event.which;\n",
       "    }\n",
       "    if (name == 'key_release')\n",
       "        this._key = null;\n",
       "\n",
       "    var value = '';\n",
       "    if (event.ctrlKey && event.which != 17)\n",
       "        value += \"ctrl+\";\n",
       "    if (event.altKey && event.which != 18)\n",
       "        value += \"alt+\";\n",
       "    if (event.shiftKey && event.which != 16)\n",
       "        value += \"shift+\";\n",
       "\n",
       "    value += 'k';\n",
       "    value += event.which.toString();\n",
       "\n",
       "    this._key_event_extra(event, name);\n",
       "\n",
       "    this.send_message(name, {key: value,\n",
       "                             guiEvent: simpleKeys(event)});\n",
       "    return false;\n",
       "}\n",
       "\n",
       "mpl.figure.prototype.toolbar_button_onclick = function(name) {\n",
       "    if (name == 'download') {\n",
       "        this.handle_save(this, null);\n",
       "    } else {\n",
       "        this.send_message(\"toolbar_button\", {name: name});\n",
       "    }\n",
       "};\n",
       "\n",
       "mpl.figure.prototype.toolbar_button_onmouseover = function(tooltip) {\n",
       "    this.message.textContent = tooltip;\n",
       "};\n",
       "mpl.toolbar_items = [[\"Home\", \"Reset original view\", \"fa fa-home icon-home\", \"home\"], [\"Back\", \"Back to previous view\", \"fa fa-arrow-left icon-arrow-left\", \"back\"], [\"Forward\", \"Forward to next view\", \"fa fa-arrow-right icon-arrow-right\", \"forward\"], [\"\", \"\", \"\", \"\"], [\"Pan\", \"Pan axes with left mouse, zoom with right\", \"fa fa-arrows icon-move\", \"pan\"], [\"Zoom\", \"Zoom to rectangle\", \"fa fa-square-o icon-check-empty\", \"zoom\"], [\"\", \"\", \"\", \"\"], [\"Download\", \"Download plot\", \"fa fa-floppy-o icon-save\", \"download\"]];\n",
       "\n",
       "mpl.extensions = [\"eps\", \"pdf\", \"png\", \"ps\", \"raw\", \"svg\"];\n",
       "\n",
       "mpl.default_extension = \"png\";var comm_websocket_adapter = function(comm) {\n",
       "    // Create a \"websocket\"-like object which calls the given IPython comm\n",
       "    // object with the appropriate methods. Currently this is a non binary\n",
       "    // socket, so there is still some room for performance tuning.\n",
       "    var ws = {};\n",
       "\n",
       "    ws.close = function() {\n",
       "        comm.close()\n",
       "    };\n",
       "    ws.send = function(m) {\n",
       "        //console.log('sending', m);\n",
       "        comm.send(m);\n",
       "    };\n",
       "    // Register the callback with on_msg.\n",
       "    comm.on_msg(function(msg) {\n",
       "        //console.log('receiving', msg['content']['data'], msg);\n",
       "        // Pass the mpl event to the overridden (by mpl) onmessage function.\n",
       "        ws.onmessage(msg['content']['data'])\n",
       "    });\n",
       "    return ws;\n",
       "}\n",
       "\n",
       "mpl.mpl_figure_comm = function(comm, msg) {\n",
       "    // This is the function which gets called when the mpl process\n",
       "    // starts-up an IPython Comm through the \"matplotlib\" channel.\n",
       "\n",
       "    var id = msg.content.data.id;\n",
       "    // Get hold of the div created by the display call when the Comm\n",
       "    // socket was opened in Python.\n",
       "    var element = $(\"#\" + id);\n",
       "    var ws_proxy = comm_websocket_adapter(comm)\n",
       "\n",
       "    function ondownload(figure, format) {\n",
       "        window.open(figure.imageObj.src);\n",
       "    }\n",
       "\n",
       "    var fig = new mpl.figure(id, ws_proxy,\n",
       "                           ondownload,\n",
       "                           element.get(0));\n",
       "\n",
       "    // Call onopen now - mpl needs it, as it is assuming we've passed it a real\n",
       "    // web socket which is closed, not our websocket->open comm proxy.\n",
       "    ws_proxy.onopen();\n",
       "\n",
       "    fig.parent_element = element.get(0);\n",
       "    fig.cell_info = mpl.find_output_cell(\"<div id='\" + id + \"'></div>\");\n",
       "    if (!fig.cell_info) {\n",
       "        console.error(\"Failed to find cell for figure\", id, fig);\n",
       "        return;\n",
       "    }\n",
       "\n",
       "    var output_index = fig.cell_info[2]\n",
       "    var cell = fig.cell_info[0];\n",
       "\n",
       "};\n",
       "\n",
       "mpl.figure.prototype.handle_close = function(fig, msg) {\n",
       "    var width = fig.canvas.width/mpl.ratio\n",
       "    fig.root.unbind('remove')\n",
       "\n",
       "    // Update the output cell to use the data from the current canvas.\n",
       "    fig.push_to_output();\n",
       "    var dataURL = fig.canvas.toDataURL();\n",
       "    // Re-enable the keyboard manager in IPython - without this line, in FF,\n",
       "    // the notebook keyboard shortcuts fail.\n",
       "    IPython.keyboard_manager.enable()\n",
       "    $(fig.parent_element).html('<img src=\"' + dataURL + '\" width=\"' + width + '\">');\n",
       "    fig.close_ws(fig, msg);\n",
       "}\n",
       "\n",
       "mpl.figure.prototype.close_ws = function(fig, msg){\n",
       "    fig.send_message('closing', msg);\n",
       "    // fig.ws.close()\n",
       "}\n",
       "\n",
       "mpl.figure.prototype.push_to_output = function(remove_interactive) {\n",
       "    // Turn the data on the canvas into data in the output cell.\n",
       "    var width = this.canvas.width/mpl.ratio\n",
       "    var dataURL = this.canvas.toDataURL();\n",
       "    this.cell_info[1]['text/html'] = '<img src=\"' + dataURL + '\" width=\"' + width + '\">';\n",
       "}\n",
       "\n",
       "mpl.figure.prototype.updated_canvas_event = function() {\n",
       "    // Tell IPython that the notebook contents must change.\n",
       "    IPython.notebook.set_dirty(true);\n",
       "    this.send_message(\"ack\", {});\n",
       "    var fig = this;\n",
       "    // Wait a second, then push the new image to the DOM so\n",
       "    // that it is saved nicely (might be nice to debounce this).\n",
       "    setTimeout(function () { fig.push_to_output() }, 1000);\n",
       "}\n",
       "\n",
       "mpl.figure.prototype._init_toolbar = function() {\n",
       "    var fig = this;\n",
       "\n",
       "    var nav_element = $('<div/>')\n",
       "    nav_element.attr('style', 'width: 100%');\n",
       "    this.root.append(nav_element);\n",
       "\n",
       "    // Define a callback function for later on.\n",
       "    function toolbar_event(event) {\n",
       "        return fig.toolbar_button_onclick(event['data']);\n",
       "    }\n",
       "    function toolbar_mouse_event(event) {\n",
       "        return fig.toolbar_button_onmouseover(event['data']);\n",
       "    }\n",
       "\n",
       "    for(var toolbar_ind in mpl.toolbar_items){\n",
       "        var name = mpl.toolbar_items[toolbar_ind][0];\n",
       "        var tooltip = mpl.toolbar_items[toolbar_ind][1];\n",
       "        var image = mpl.toolbar_items[toolbar_ind][2];\n",
       "        var method_name = mpl.toolbar_items[toolbar_ind][3];\n",
       "\n",
       "        if (!name) { continue; };\n",
       "\n",
       "        var button = $('<button class=\"btn btn-default\" href=\"#\" title=\"' + name + '\"><i class=\"fa ' + image + ' fa-lg\"></i></button>');\n",
       "        button.click(method_name, toolbar_event);\n",
       "        button.mouseover(tooltip, toolbar_mouse_event);\n",
       "        nav_element.append(button);\n",
       "    }\n",
       "\n",
       "    // Add the status bar.\n",
       "    var status_bar = $('<span class=\"mpl-message\" style=\"text-align:right; float: right;\"/>');\n",
       "    nav_element.append(status_bar);\n",
       "    this.message = status_bar[0];\n",
       "\n",
       "    // Add the close button to the window.\n",
       "    var buttongrp = $('<div class=\"btn-group inline pull-right\"></div>');\n",
       "    var button = $('<button class=\"btn btn-mini btn-primary\" href=\"#\" title=\"Stop Interaction\"><i class=\"fa fa-power-off icon-remove icon-large\"></i></button>');\n",
       "    button.click(function (evt) { fig.handle_close(fig, {}); } );\n",
       "    button.mouseover('Stop Interaction', toolbar_mouse_event);\n",
       "    buttongrp.append(button);\n",
       "    var titlebar = this.root.find($('.ui-dialog-titlebar'));\n",
       "    titlebar.prepend(buttongrp);\n",
       "}\n",
       "\n",
       "mpl.figure.prototype._root_extra_style = function(el){\n",
       "    var fig = this\n",
       "    el.on(\"remove\", function(){\n",
       "\tfig.close_ws(fig, {});\n",
       "    });\n",
       "}\n",
       "\n",
       "mpl.figure.prototype._canvas_extra_style = function(el){\n",
       "    // this is important to make the div 'focusable\n",
       "    el.attr('tabindex', 0)\n",
       "    // reach out to IPython and tell the keyboard manager to turn it's self\n",
       "    // off when our div gets focus\n",
       "\n",
       "    // location in version 3\n",
       "    if (IPython.notebook.keyboard_manager) {\n",
       "        IPython.notebook.keyboard_manager.register_events(el);\n",
       "    }\n",
       "    else {\n",
       "        // location in version 2\n",
       "        IPython.keyboard_manager.register_events(el);\n",
       "    }\n",
       "\n",
       "}\n",
       "\n",
       "mpl.figure.prototype._key_event_extra = function(event, name) {\n",
       "    var manager = IPython.notebook.keyboard_manager;\n",
       "    if (!manager)\n",
       "        manager = IPython.keyboard_manager;\n",
       "\n",
       "    // Check for shift+enter\n",
       "    if (event.shiftKey && event.which == 13) {\n",
       "        this.canvas_div.blur();\n",
       "        event.shiftKey = false;\n",
       "        // Send a \"J\" for go to next cell\n",
       "        event.which = 74;\n",
       "        event.keyCode = 74;\n",
       "        manager.command_mode();\n",
       "        manager.handle_keydown(event);\n",
       "    }\n",
       "}\n",
       "\n",
       "mpl.figure.prototype.handle_save = function(fig, msg) {\n",
       "    fig.ondownload(fig, null);\n",
       "}\n",
       "\n",
       "\n",
       "mpl.find_output_cell = function(html_output) {\n",
       "    // Return the cell and output element which can be found *uniquely* in the notebook.\n",
       "    // Note - this is a bit hacky, but it is done because the \"notebook_saving.Notebook\"\n",
       "    // IPython event is triggered only after the cells have been serialised, which for\n",
       "    // our purposes (turning an active figure into a static one), is too late.\n",
       "    var cells = IPython.notebook.get_cells();\n",
       "    var ncells = cells.length;\n",
       "    for (var i=0; i<ncells; i++) {\n",
       "        var cell = cells[i];\n",
       "        if (cell.cell_type === 'code'){\n",
       "            for (var j=0; j<cell.output_area.outputs.length; j++) {\n",
       "                var data = cell.output_area.outputs[j];\n",
       "                if (data.data) {\n",
       "                    // IPython >= 3 moved mimebundle to data attribute of output\n",
       "                    data = data.data;\n",
       "                }\n",
       "                if (data['text/html'] == html_output) {\n",
       "                    return [cell, data, j];\n",
       "                }\n",
       "            }\n",
       "        }\n",
       "    }\n",
       "}\n",
       "\n",
       "// Register the function which deals with the matplotlib target/channel.\n",
       "// The kernel may be null if the page has been refreshed.\n",
       "if (IPython.notebook.kernel != null) {\n",
       "    IPython.notebook.kernel.comm_manager.register_target('matplotlib', mpl.mpl_figure_comm);\n",
       "}\n"
      ],
      "text/plain": [
       "<IPython.core.display.Javascript object>"
      ]
     },
     "metadata": {},
     "output_type": "display_data"
    },
    {
     "data": {
      "text/html": [
       "<img src=\"data:image/png;base64,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\" width=\"640\">"
      ],
      "text/plain": [
       "<IPython.core.display.HTML object>"
      ]
     },
     "metadata": {},
     "output_type": "display_data"
    }
   ],
   "source": [
    "n = 5\n",
    "max_n = 6\n",
    "cutoff = 0.5\n",
    "range_ = 4\n",
    "N, b = gaussian_sigma_constant_coeffs(cutoff, n, max_n)\n",
    "bf = lambda r : gaussian_sigma_constant(N, b, n, r)\n",
    "print(integrate_env(bf, range_))\n",
    "\n",
    "import matplotlib.pyplot as plt\n",
    "x = np.linspace(-range_,range_,100)\n",
    "plt.plot(x, bf(x))\n",
    "plt.show()"
   ]
  },
  {
   "cell_type": "code",
   "execution_count": 244,
   "metadata": {},
   "outputs": [
    {
     "ename": "SyntaxError",
     "evalue": "invalid syntax (<ipython-input-244-1ca6332d94e2>, line 9)",
     "output_type": "error",
     "traceback": [
      "\u001b[0;36m  File \u001b[0;32m\"<ipython-input-244-1ca6332d94e2>\"\u001b[0;36m, line \u001b[0;32m9\u001b[0m\n\u001b[0;31m    gaussian_sigma_constant=gaussian_sigma_constant,\u001b[0m\n\u001b[0m                          ^\u001b[0m\n\u001b[0;31mSyntaxError\u001b[0m\u001b[0;31m:\u001b[0m invalid syntax\n"
     ]
    }
   ],
   "source": [
    "radial_basis\n",
    "\n",
    "def do_all(frame, radial_basis=\"GTO\", gaussian_sigma_type=\"Constant\", gaussian_sigma_constant=0.4, max_radial=6, interaction_cutoff=3.5):\n",
    "    hypers = dict(soap_type=\"RadialSpectrum\",\n",
    "                  interaction_cutoff=interaction_cutoff,\n",
    "                  max_radial=max_radial, \n",
    "                  max_angular=0,\n",
    "                  radial_basis=radial_basis\n",
    "                  gaussian_sigma_constant=gaussian_sigma_constant,\n",
    "                  gaussian_sigma_type=gaussian_sigma_type,\n",
    "                  cutoff_smooth_width=0.5,\n",
    "                  )\n",
    "    soap = SOAP(**hypers)\n",
    "    nb_envs, nb_coeffs  = representation.get_dense_feature_matrix(soap).shape\n",
    "    nb_species = nb_coeffs/max_radial\n",
    "    bf = basis_function(radial_basis, gaussian_sigma_type, gaussian_sigma_constant)\n",
    "    integrate_env(bf, interaction_cutoff)"
   ]
  },
  {
   "cell_type": "code",
   "execution_count": null,
   "metadata": {},
   "outputs": [],
   "source": []
  },
  {
   "cell_type": "code",
   "execution_count": null,
   "metadata": {},
   "outputs": [],
   "source": []
  },
  {
   "cell_type": "code",
   "execution_count": null,
   "metadata": {},
   "outputs": [],
   "source": []
  },
  {
   "cell_type": "markdown",
   "metadata": {},
   "source": [
    "## Download data"
   ]
  },
  {
   "cell_type": "markdown",
   "metadata": {},
   "source": [
    "Run the cell below to dowload the CSD-500 dataset you'll need for this tutorial.\n",
    "\n",
    "The data is from the paper \"Chemical shifts in molecular solids by machine learning\" by Paruzzo, Hofstetter, Musil, De, Ceriotti and Emsley, available [here](https://www.nature.com/articles/s41467-018-06972-x). (If the cell below doesn't work, try downloading \"Supplementary Data 2\" from the [supplementary info section](https://www.nature.com/articles/s41467-018-06972-x#Sec11) of the paper; be sure to name it `data/CSD-500.xyz` as below)."
   ]
  },
  {
   "cell_type": "code",
   "execution_count": 1,
   "metadata": {},
   "outputs": [
    {
     "data": {
      "text/plain": [
       "('./data/CSD-500.xyz', <http.client.HTTPMessage at 0x7f0da403a4a8>)"
      ]
     },
     "execution_count": 1,
     "metadata": {},
     "output_type": "execute_result"
    }
   ],
   "source": [
    "download_link = \"https://static-content.springer.com/esm/art%3A10.1038%2Fs41467-018-06972-x/MediaObjects/41467_2018_6972_MOESM4_ESM.txt\"\n",
    "import urllib.request\n",
    "urllib.request.urlretrieve(download_link, './data/CSD-500.xyz')"
   ]
  },
  {
   "cell_type": "code",
   "execution_count": 7,
   "metadata": {
    "init_cell": true
   },
   "outputs": [],
   "source": [
    "#frames = read('./data/small_molecules-1000.xyz',':600')\n",
    "frames = read('./data/CSD-500.xyz',':3')"
   ]
  },
  {
   "cell_type": "code",
   "execution_count": 8,
   "metadata": {},
   "outputs": [],
   "source": [
    "n_atoms = sum(frame.get_number_of_atoms() for frame in frames)"
   ]
  },
  {
   "cell_type": "code",
   "execution_count": 9,
   "metadata": {},
   "outputs": [],
   "source": [
    "chem_shifts = []\n",
    "for frame in frames:\n",
    "    chem_shifts.append(frame.arrays['CS'])"
   ]
  },
  {
   "cell_type": "code",
   "execution_count": 10,
   "metadata": {},
   "outputs": [
    {
     "data": {
      "text/plain": [
       "(62, 2)"
      ]
     },
     "execution_count": 10,
     "metadata": {},
     "output_type": "execute_result"
    }
   ],
   "source": [
    "chem_shifts[1].shape"
   ]
  },
  {
   "cell_type": "code",
   "execution_count": 11,
   "metadata": {},
   "outputs": [],
   "source": [
    "chem_shifts_atoms = np.concatenate(chem_shifts, axis=0)"
   ]
  },
  {
   "cell_type": "code",
   "execution_count": 12,
   "metadata": {},
   "outputs": [
    {
     "data": {
      "text/plain": [
       "(362, 2)"
      ]
     },
     "execution_count": 12,
     "metadata": {},
     "output_type": "execute_result"
    }
   ],
   "source": [
    "chem_shifts_atoms.shape"
   ]
  },
  {
   "cell_type": "markdown",
   "metadata": {},
   "source": [
    "# SOAP: Power spectrum"
   ]
  },
  {
   "cell_type": "code",
   "execution_count": 50,
   "metadata": {
    "code_folding": []
   },
   "outputs": [],
   "source": [
    "hypers = dict(soap_type=\"RadialSpectrum\",\n",
    "              interaction_cutoff=3.5, \n",
    "              max_radial=6,\n",
    "              max_angular=0, \n",
    "              gaussian_sigma_constant=0.4,\n",
    "              gaussian_sigma_type=\"Constant\",\n",
    "              cutoff_smooth_width=0.5,\n",
    "              )\n",
    "soap = SOAP(**hypers)"
   ]
  },
  {
   "cell_type": "code",
   "execution_count": 51,
   "metadata": {},
   "outputs": [
    {
     "name": "stdout",
     "output_type": "stream",
     "text": [
      "CPU times: user 10.6 ms, sys: 0 ns, total: 10.6 ms\n",
      "Wall time: 9.77 ms\n"
     ]
    }
   ],
   "source": [
    "%time representation = soap.transform(frames)"
   ]
  },
  {
   "cell_type": "code",
   "execution_count": 52,
   "metadata": {},
   "outputs": [],
   "source": [
    "X = representation.get_dense_feature_matrix(soap).T"
   ]
  },
  {
   "cell_type": "code",
   "execution_count": 53,
   "metadata": {},
   "outputs": [
    {
     "data": {
      "text/plain": [
       "(24, 362)"
      ]
     },
     "execution_count": 53,
     "metadata": {},
     "output_type": "execute_result"
    }
   ],
   "source": [
    "X.shape"
   ]
  },
  {
   "cell_type": "code",
   "execution_count": 55,
   "metadata": {},
   "outputs": [
    {
     "data": {
      "text/plain": [
       "[{'name': 'centers', 'args': []},\n",
       " {'name': 'neighbourlist', 'args': {'cutoff': 3.5}},\n",
       " {'name': 'centercontribution', 'args': {}},\n",
       " {'name': 'strict', 'args': {'cutoff': 3.5}}]"
      ]
     },
     "execution_count": 55,
     "metadata": {},
     "output_type": "execute_result"
    }
   ],
   "source": []
  },
  {
   "cell_type": "markdown",
   "metadata": {},
   "source": [
    "# Learning the chemical shifts of a set of crystal structures"
   ]
  },
  {
   "cell_type": "markdown",
   "metadata": {
    "heading_collapsed": true
   },
   "source": [
    "## learning utilities"
   ]
  },
  {
   "cell_type": "code",
   "execution_count": null,
   "metadata": {
    "code_folding": [
     13,
     20,
     31,
     33,
     35,
     37,
     47,
     54
    ],
    "hidden": true
   },
   "outputs": [],
   "source": [
    "def compute_representation(representation, frames):\n",
    "    result = representation.transform(frames)\n",
    "    return result\n",
    "\n",
    "#def compute_representation(frames):\n",
    "#    expansions = soap.transform(frames)\n",
    "#    return expansions\n",
    "\n",
    "def compute_atomic_kernel(zeta, rep1, rep2=None):\n",
    "    if rep2 is not None:\n",
    "        kernel = rep1.cosine_kernel_atomic(rep2, zeta)\n",
    "    else:\n",
    "        kernel = rep1.cosine_kernel_atomic(zeta)\n",
    "    return kernel\n",
    "\n",
    "def extract_energy(frames):\n",
    "    prop = [[]]*len(frames)\n",
    "    for ii,cc in enumerate(frames):\n",
    "        #prop[ii] = cc.info['dft_formation_energy_per_atom_in_eV']\n",
    "        prop[ii] = cc.info['ENERGY']\n",
    "    y = np.array(prop)\n",
    "    return y\n",
    "\n",
    "def split_dataset(frames, test_fraction, seed=10):\n",
    "    N = len(frames)\n",
    "    ids = np.arange(N)\n",
    "    np.random.seed(seed)\n",
    "    np.random.shuffle(ids)\n",
    "    Ntrain = int(N*test_fraction)\n",
    "    train = ids[:Ntrain]\n",
    "    test = ids[Ntrain:]\n",
    "    targets = extract_energy(frames)\n",
    "    return [frames[ii] for ii in train],targets[train],[frames[ii] for ii in test],targets[test]\n",
    "\n",
    "def get_mae(ypred,y):\n",
    "    return np.mean(np.abs(ypred-y))\n",
    "def get_rmse(ypred,y):\n",
    "    return np.sqrt(np.mean((ypred-y)**2))\n",
    "def get_sup(ypred,y):\n",
    "    return np.amax(np.abs((ypred-y)))\n",
    "def get_r2(y_pred,y_true):\n",
    "    weight = 1\n",
    "    sample_weight = None\n",
    "    numerator = (weight * (y_true - y_pred) ** 2).sum(axis=0,dtype=np.float64)\n",
    "    denominator = (weight * (y_true - np.average(\n",
    "        y_true, axis=0, weights=sample_weight)) ** 2).sum(axis=0,dtype=np.float64)\n",
    "    output_scores = 1 - (numerator / denominator)\n",
    "    return np.mean(output_scores)\n",
    "\n",
    "\n",
    "score_func = dict(\n",
    "    MAE=get_mae,\n",
    "    RMSE=get_rmse,\n",
    "    SUP=get_sup,\n",
    "    R2=get_r2,\n",
    ")\n",
    "\n",
    "def get_score(ypred,y):\n",
    "    scores = {}\n",
    "    for k,func in score_func.items():\n",
    "        scores[k] = func(ypred,y)\n",
    "    return scores\n",
    "\n",
    "class KRR(object):\n",
    "    def __init__(self,zeta,weights,representation,X):\n",
    "        self.weights = weights\n",
    "        self.representation = representation\n",
    "        self.zeta = zeta\n",
    "        self.X = X\n",
    "        \n",
    "    def predict(self,frames):\n",
    "        features = compute_representation(self.representation,frames)\n",
    "        kernel = compute_atomic_kernel(self.zeta, self.X, features)\n",
    "        return np.dot(self.weights, kernel)\n",
    "\n",
    "def train_krr_model(zeta,Lambda,representation,frames,y,jitter=1e-8):\n",
    "    features = compute_representation(representation, frames)\n",
    "    kernel = compute_atomic_kernel(zeta, features, features)    \n",
    "    # adjust the kernel so that it is properly scaled\n",
    "    delta = np.std(y) / np.mean(kernel.diagonal())\n",
    "    kernel[np.diag_indices_from(kernel)] += Lambda**2 / delta **2 + jitter\n",
    "    # train the krr model\n",
    "    weights = np.linalg.solve(kernel,y)\n",
    "    model = KRR(zeta, weights,representation, features)\n",
    "    return model,kernel\n"
   ]
  },
  {
   "cell_type": "code",
   "execution_count": null,
   "metadata": {},
   "outputs": [],
   "source": [
    "compute_representation(soap, frames)"
   ]
  },
  {
   "cell_type": "markdown",
   "metadata": {
    "heading_collapsed": true
   },
   "source": [
    "## With the full power spectrum"
   ]
  },
  {
   "cell_type": "code",
   "execution_count": null,
   "metadata": {
    "hidden": true
   },
   "outputs": [],
   "source": [
    "hypers = dict(soap_type=\"PowerSpectrum\",\n",
    "              interaction_cutoff=3.5, \n",
    "              max_radial=1, \n",
    "              max_angular=1, \n",
    "              gaussian_sigma_constant=0.4,\n",
    "              gaussian_sigma_type=\"Constant\",\n",
    "              cutoff_smooth_width=0.5,\n",
    "              )\n",
    "soap = SOAP(**hypers)"
   ]
  },
  {
   "cell_type": "code",
   "execution_count": null,
   "metadata": {
    "hidden": true
   },
   "outputs": [],
   "source": [
    "frames_train, y_train, frames_test, y_test = split_dataset(frames,0.5)"
   ]
  },
  {
   "cell_type": "code",
   "execution_count": null,
   "metadata": {},
   "outputs": [],
   "source": [
    "y_train = np.concatenate([frame.arrays['CS'] for frame in frames_train], axis=0)"
   ]
  },
  {
   "cell_type": "code",
   "execution_count": null,
   "metadata": {},
   "outputs": [],
   "source": [
    "y_train = y_train[:,0]"
   ]
  },
  {
   "cell_type": "code",
   "execution_count": null,
   "metadata": {},
   "outputs": [],
   "source": [
    "y_test = np.concatenate([frame.arrays['CS'] for frame in frames_test], axis=0)"
   ]
  },
  {
   "cell_type": "code",
   "execution_count": null,
   "metadata": {},
   "outputs": [],
   "source": [
    "y_test = y_test[:,0]"
   ]
  },
  {
   "cell_type": "code",
   "execution_count": null,
   "metadata": {},
   "outputs": [],
   "source": [
    "n_atoms = sum(frame.get_number_of_atoms() for frame in frames_train)"
   ]
  },
  {
   "cell_type": "code",
   "execution_count": null,
   "metadata": {},
   "outputs": [],
   "source": [
    "zeta = 2"
   ]
  },
  {
   "cell_type": "code",
   "execution_count": null,
   "metadata": {},
   "outputs": [],
   "source": [
    "features = compute_representation(soap, frames_train)"
   ]
  },
  {
   "cell_type": "code",
   "execution_count": null,
   "metadata": {},
   "outputs": [],
   "source": [
    "features"
   ]
  },
  {
   "cell_type": "code",
   "execution_count": null,
   "metadata": {},
   "outputs": [],
   "source": [
    "kernel = compute_atomic_kernel(zeta, features, features)"
   ]
  },
  {
   "cell_type": "code",
   "execution_count": null,
   "metadata": {
    "scrolled": true
   },
   "outputs": [],
   "source": [
    "kernel.shape"
   ]
  },
  {
   "cell_type": "code",
   "execution_count": null,
   "metadata": {},
   "outputs": [],
   "source": [
    "# WTF?\n",
    "#for i in range(len(kernel)):\n",
    "#    kernel[i][0] = np.sqrt(i)/50"
   ]
  },
  {
   "cell_type": "code",
   "execution_count": null,
   "metadata": {},
   "outputs": [],
   "source": [
    "kernel[191]"
   ]
  },
  {
   "cell_type": "code",
   "execution_count": null,
   "metadata": {},
   "outputs": [],
   "source": [
    "# First, try without regularization -- the results will be nonsense\n",
    "weights = np.linalg.solve(kernel,y_train)"
   ]
  },
  {
   "cell_type": "code",
   "execution_count": null,
   "metadata": {},
   "outputs": [],
   "source": [
    "weights.shape"
   ]
  },
  {
   "cell_type": "code",
   "execution_count": null,
   "metadata": {},
   "outputs": [],
   "source": [
    "model = KRR(zeta, weights, soap, features)"
   ]
  },
  {
   "cell_type": "code",
   "execution_count": null,
   "metadata": {
    "hidden": true
   },
   "outputs": [],
   "source": [
    "y_pred = model.predict(frames_test)\n",
    "get_score(y_pred, y_test)"
   ]
  },
  {
   "cell_type": "code",
   "execution_count": null,
   "metadata": {
    "hidden": true
   },
   "outputs": [],
   "source": [
    "zeta = 2\n",
    "Lambda = 10\n",
    "krr,k = train_krr_model(zeta, Lambda, soap, frames_train, y_train)"
   ]
  },
  {
   "cell_type": "code",
   "execution_count": null,
   "metadata": {
    "hidden": true
   },
   "outputs": [],
   "source": [
    "y_pred = krr.predict(frames_test)\n",
    "get_score(y_pred, y_test)"
   ]
  },
  {
   "cell_type": "code",
   "execution_count": null,
   "metadata": {
    "scrolled": false
   },
   "outputs": [],
   "source": [
    "#sc = plt.scatter(y_pred, y_test, s=3)\n",
    "#ax = plt.axis('scaled')\n",
    "plt.plot(y_test, y_pred, '.')\n",
    "plt.ylabel('DFT shift')\n",
    "plt.xlabel('Predicted shift')\n",
    "plt.savefig('R1.png', dpi=300)"
   ]
  },
  {
   "cell_type": "markdown",
   "metadata": {
    "heading_collapsed": true
   },
   "source": [
    "## With just the radial spectrum"
   ]
  },
  {
   "cell_type": "code",
   "execution_count": 43,
   "metadata": {
    "hidden": true
   },
   "outputs": [],
   "source": [
    "hypers = dict(soap_type=\"RadialSpectrum\",\n",
    "              interaction_cutoff=3.5, \n",
    "              max_radial=6, \n",
    "              max_angular=0, \n",
    "              gaussian_sigma_constant=0.4,\n",
    "              gaussian_sigma_type=\"Constant\",\n",
    "              cutoff_smooth_width=0.5\n",
    "              )\n",
    "soap = SOAP(**hypers)"
   ]
  },
  {
   "cell_type": "code",
   "execution_count": 44,
   "metadata": {
    "hidden": true
   },
   "outputs": [
    {
     "ename": "NameError",
     "evalue": "name 'split_dataset' is not defined",
     "output_type": "error",
     "traceback": [
      "\u001b[0;31m---------------------------------------------------------------------------\u001b[0m",
      "\u001b[0;31mNameError\u001b[0m                                 Traceback (most recent call last)",
      "\u001b[0;32m<ipython-input-44-b4afb0fac59a>\u001b[0m in \u001b[0;36m<module>\u001b[0;34m\u001b[0m\n\u001b[0;32m----> 1\u001b[0;31m \u001b[0mframes_train\u001b[0m\u001b[0;34m,\u001b[0m \u001b[0my_train\u001b[0m\u001b[0;34m,\u001b[0m \u001b[0mframes_test\u001b[0m\u001b[0;34m,\u001b[0m \u001b[0my_testr\u001b[0m \u001b[0;34m=\u001b[0m \u001b[0msplit_dataset\u001b[0m\u001b[0;34m(\u001b[0m\u001b[0mframes\u001b[0m\u001b[0;34m,\u001b[0m\u001b[0;36m0.4\u001b[0m\u001b[0;34m)\u001b[0m\u001b[0;34m\u001b[0m\u001b[0;34m\u001b[0m\u001b[0m\n\u001b[0m",
      "\u001b[0;31mNameError\u001b[0m: name 'split_dataset' is not defined"
     ]
    }
   ],
   "source": [
    "frames_train, y_train, frames_test, y_testr = split_dataset(frames,0.4)"
   ]
  },
  {
   "cell_type": "code",
   "execution_count": 45,
   "metadata": {
    "hidden": true
   },
   "outputs": [
    {
     "ename": "NameError",
     "evalue": "name 'train_krr_model' is not defined",
     "output_type": "error",
     "traceback": [
      "\u001b[0;31m---------------------------------------------------------------------------\u001b[0m",
      "\u001b[0;31mNameError\u001b[0m                                 Traceback (most recent call last)",
      "\u001b[0;32m<ipython-input-45-6cd322b49906>\u001b[0m in \u001b[0;36m<module>\u001b[0;34m\u001b[0m\n\u001b[1;32m      1\u001b[0m \u001b[0mzeta\u001b[0m \u001b[0;34m=\u001b[0m \u001b[0;36m2\u001b[0m\u001b[0;34m\u001b[0m\u001b[0;34m\u001b[0m\u001b[0m\n\u001b[1;32m      2\u001b[0m \u001b[0mLambda\u001b[0m \u001b[0;34m=\u001b[0m \u001b[0;36m5e-3\u001b[0m\u001b[0;34m\u001b[0m\u001b[0;34m\u001b[0m\u001b[0m\n\u001b[0;32m----> 3\u001b[0;31m \u001b[0mkrr\u001b[0m\u001b[0;34m,\u001b[0m\u001b[0mk\u001b[0m \u001b[0;34m=\u001b[0m \u001b[0mtrain_krr_model\u001b[0m\u001b[0;34m(\u001b[0m\u001b[0mzeta\u001b[0m\u001b[0;34m,\u001b[0m \u001b[0mLambda\u001b[0m\u001b[0;34m,\u001b[0m \u001b[0msoap\u001b[0m\u001b[0;34m,\u001b[0m \u001b[0mframes_train\u001b[0m\u001b[0;34m,\u001b[0m \u001b[0my_train\u001b[0m\u001b[0;34m)\u001b[0m\u001b[0;34m\u001b[0m\u001b[0;34m\u001b[0m\u001b[0m\n\u001b[0m",
      "\u001b[0;31mNameError\u001b[0m: name 'train_krr_model' is not defined"
     ]
    }
   ],
   "source": [
    "zeta = 2\n",
    "Lambda = 5e-3\n",
    "krr,k = train_krr_model(zeta, Lambda, soap, frames_train, y_train)"
   ]
  },
  {
   "cell_type": "code",
   "execution_count": null,
   "metadata": {
    "hidden": true
   },
   "outputs": [],
   "source": [
    "y_predr = krr.predict(frames_test)\n",
    "get_score(y_predr, y_testr)"
   ]
  },
  {
   "cell_type": "code",
   "execution_count": null,
   "metadata": {
    "hidden": true
   },
   "outputs": [],
   "source": [
    "#plt.scatter(y_predr, y_testr, s=3)\n",
    "#plt.scatter(y_predr, y_testr, s=3)\n",
    "#ax = plt.axis('scaled')\n",
    "plt.plot(y_pred, y_test, '.b')\n",
    "plt.plot(y_predr, y_testr, '.y')\n",
    "plt.legend(['Full','Radial'])\n",
    "plt.ylabel('DFT energy / (eV/atom)')\n",
    "plt.xlabel('Predicted energy / (eV/atom)')\n",
    "plt.savefig('R1.png', dpi=300)"
   ]
  },
  {
   "cell_type": "markdown",
   "metadata": {},
   "source": [
    "# Make a map of the dataset"
   ]
  },
  {
   "cell_type": "markdown",
   "metadata": {
    "heading_collapsed": true
   },
   "source": [
    "## utils"
   ]
  },
  {
   "cell_type": "code",
   "execution_count": null,
   "metadata": {
    "hidden": true
   },
   "outputs": [],
   "source": [
    "def compute_representation(representation,frames):\n",
    "    expansions = soap.transform(frames)\n",
    "    return expansions\n",
    "\n",
    "def compute_kernel(zeta, rep1, rep2=None):\n",
    "    if rep2 is None:\n",
    "        kernel = rep1.cosine_kernel_global(zeta)\n",
    "    else:\n",
    "        kernel = rep1.cosine_kernel_global(rep2,zeta)\n",
    "    return kernel"
   ]
  },
  {
   "cell_type": "code",
   "execution_count": null,
   "metadata": {
    "code_folding": [
     0
    ],
    "hidden": true
   },
   "outputs": [],
   "source": [
    "def link_ngl_wdgt_to_ax_pos(ax, pos, ngl_widget):\n",
    "    from matplotlib.widgets import AxesWidget\n",
    "    from scipy.spatial import cKDTree\n",
    "    r\"\"\"\n",
    "    Initial idea for this function comes from @arose, the rest is @gph82 and @clonker\n",
    "    \"\"\"\n",
    "    \n",
    "    kdtree = cKDTree(pos)        \n",
    "    #assert ngl_widget.trajectory_0.n_frames == pos.shape[0]\n",
    "    x, y = pos.T\n",
    "    \n",
    "    lineh = ax.axhline(ax.get_ybound()[0], c=\"black\", ls='--')\n",
    "    linev = ax.axvline(ax.get_xbound()[0], c=\"black\", ls='--')\n",
    "    dot, = ax.plot(pos[0,0],pos[0,1], 'o', c='red', ms=7)\n",
    "\n",
    "    ngl_widget.isClick = False\n",
    "    \n",
    "    def onclick(event):\n",
    "        linev.set_xdata((event.xdata, event.xdata))\n",
    "        lineh.set_ydata((event.ydata, event.ydata))\n",
    "        data = [event.xdata, event.ydata]\n",
    "        _, index = kdtree.query(x=data, k=1)\n",
    "        dot.set_xdata((x[index]))\n",
    "        dot.set_ydata((y[index]))\n",
    "        ngl_widget.isClick = True\n",
    "        ngl_widget.frame = index\n",
    "    \n",
    "    def my_observer(change):\n",
    "        r\"\"\"Here comes the code that you want to execute\n",
    "        \"\"\"\n",
    "        ngl_widget.isClick = False\n",
    "        _idx = change[\"new\"]\n",
    "        try:\n",
    "            dot.set_xdata((x[_idx]))\n",
    "            dot.set_ydata((y[_idx]))            \n",
    "        except IndexError as e:\n",
    "            dot.set_xdata((x[0]))\n",
    "            dot.set_ydata((y[0]))\n",
    "            print(\"caught index error with index %s (new=%s, old=%s)\" % (_idx, change[\"new\"], change[\"old\"]))\n",
    "    \n",
    "    # Connect axes to widget\n",
    "    axes_widget = AxesWidget(ax)\n",
    "    axes_widget.connect_event('button_release_event', onclick)\n",
    "    \n",
    "    # Connect widget to axes\n",
    "    ngl_widget.observe(my_observer, \"frame\", \"change\")"
   ]
  },
  {
   "cell_type": "markdown",
   "metadata": {
    "heading_collapsed": true
   },
   "source": [
    "## make a map with kernel pca projection"
   ]
  },
  {
   "cell_type": "code",
   "execution_count": null,
   "metadata": {
    "hidden": true
   },
   "outputs": [],
   "source": [
    "# Load the small molecules \n",
    "frames = read('./data/small_molecules-1000.xyz',':600')"
   ]
  },
  {
   "cell_type": "code",
   "execution_count": null,
   "metadata": {
    "hidden": true
   },
   "outputs": [],
   "source": [
    "hypers = dict(soap_type=\"PowerSpectrum\",\n",
    "              interaction_cutoff=3.5, \n",
    "              max_radial=6, \n",
    "              max_angular=6, \n",
    "              gaussian_sigma_constant=0.4,\n",
    "              gaussian_sigma_type=\"Constant\",\n",
    "              cutoff_smooth_width=0.5,\n",
    "              )\n",
    "soap = SOAP(**hypers)"
   ]
  },
  {
   "cell_type": "code",
   "execution_count": null,
   "metadata": {
    "hidden": true
   },
   "outputs": [],
   "source": [
    "zeta = 2\n",
    "\n",
    "features = compute_representation(soap, frames)\n",
    "\n",
    "kernel = compute_kernel(zeta,features)"
   ]
  },
  {
   "cell_type": "code",
   "execution_count": null,
   "metadata": {
    "hidden": true
   },
   "outputs": [],
   "source": [
    "from sklearn.decomposition import KernelPCA"
   ]
  },
  {
   "cell_type": "code",
   "execution_count": null,
   "metadata": {
    "hidden": true
   },
   "outputs": [],
   "source": [
    "kpca = KernelPCA(n_components=2,kernel='precomputed')\n",
    "kpca.fit(kernel)"
   ]
  },
  {
   "cell_type": "code",
   "execution_count": null,
   "metadata": {
    "hidden": true
   },
   "outputs": [],
   "source": [
    "X = kpca.transform(kernel)"
   ]
  },
  {
   "cell_type": "code",
   "execution_count": null,
   "metadata": {
    "hidden": true
   },
   "outputs": [],
   "source": [
    "plt.scatter(X[:,0],X[:,1],s=3)\n",
    "#plt.savefig('PCA.png',dpi=300)"
   ]
  },
  {
   "cell_type": "markdown",
   "metadata": {},
   "source": [
    "## make an interactive map"
   ]
  },
  {
   "cell_type": "code",
   "execution_count": null,
   "metadata": {},
   "outputs": [],
   "source": [
    "# package to visualize the structures in the notebook\n",
    "# https://github.com/arose/nglview#released-version\n",
    "import nglview"
   ]
  },
  {
   "cell_type": "code",
   "execution_count": null,
   "metadata": {},
   "outputs": [],
   "source": [
    "iwdg = nglview.show_asetraj(frames)\n",
    "# set up the visualization\n",
    "iwdg.add_unitcell()\n",
    "iwdg.add_spacefill()\n",
    "iwdg.remove_ball_and_stick()\n",
    "iwdg.camera = 'orthographic'\n",
    "iwdg.parameters = { \"clipDist\": 0 }\n",
    "iwdg.center()\n",
    "iwdg.update_spacefill(radiusType='covalent',\n",
    "                                   scale=0.6,\n",
    "                                   color_scheme='element')\n",
    "iwdg._remote_call('setSize', target='Widget',\n",
    "                               args=['%dpx' % (600,), '%dpx' % (400,)])\n",
    "iwdg.player.delay = 200.0"
   ]
  },
  {
   "cell_type": "code",
   "execution_count": null,
   "metadata": {},
   "outputs": [],
   "source": [
    "link_ngl_wdgt_to_ax_pos(plt.gca(), X, iwdg)\n",
    "plt.scatter(X[:,0],X[:,1],s=3)\n",
    "iwdg"
   ]
  },
  {
   "cell_type": "code",
   "execution_count": null,
   "metadata": {},
   "outputs": [],
   "source": []
  },
  {
   "cell_type": "code",
   "execution_count": null,
   "metadata": {},
   "outputs": [],
   "source": []
  }
 ],
 "metadata": {
  "kernelspec": {
   "display_name": "Python 3",
   "language": "python",
   "name": "python3"
  },
  "language_info": {
   "codemirror_mode": {
    "name": "ipython",
    "version": 3
   },
   "file_extension": ".py",
   "mimetype": "text/x-python",
   "name": "python",
   "nbconvert_exporter": "python",
   "pygments_lexer": "ipython3",
   "version": "3.6.8"
  },
  "toc": {
   "base_numbering": 1,
   "nav_menu": {
    "height": "12px",
    "width": "252px"
   },
   "number_sections": true,
   "sideBar": true,
   "skip_h1_title": false,
   "title_cell": "Table of Contents",
   "title_sidebar": "Contents",
   "toc_cell": false,
   "toc_position": {},
   "toc_section_display": "block",
   "toc_window_display": false
  }
 },
 "nbformat": 4,
 "nbformat_minor": 2
}
