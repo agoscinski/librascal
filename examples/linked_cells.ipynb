{
 "cells": [
  {
   "cell_type": "code",
   "execution_count": 1,
   "metadata": {},
   "outputs": [],
   "source": [
    "import numpy as np\n",
    "import matplotlib.pyplot as plt\n",
    "import matplotlib.patches as ptc\n",
    "from IPython.core.display import clear_output\n",
    "import ase, itertools\n",
    "from ase.visualize import view\n",
    "from ase import Atoms\n",
    "from copy import deepcopy\n",
    "from scipy.spatial.distance import pdist\n",
    "from itertools import product"
   ]
  },
  {
   "cell_type": "markdown",
   "metadata": {},
   "source": [
    "# generate random cell"
   ]
  },
  {
   "cell_type": "code",
   "execution_count": 12,
   "metadata": {},
   "outputs": [],
   "source": [
    "# Hexagonal v1 = a(1,0,0),  v2 = a(-1/2,sqrt(3)/2,0),  v3 = a(0,0,c/a)\n",
    "a = 3\n",
    "c = 2\n",
    "nat = 10    # number of atoms\n",
    "rrange = 5.0 # range of x positions\n",
    "dim = 3      # dimensionality\n",
    "cutoff = 3.0 # cutoff for interactions\n",
    "h = a*np.array([[1,0,0],[-0.5,np.sqrt(3)/2,0],[0,0,c/a]])\n",
    "h = a*np.array([[1,0,0],[-2,np.sqrt(3)/2,0],[0,0,c/a]])\n",
    "r = np.random.uniform(low=-rrange, high=2*rrange, size=(nat, dim))\n",
    "pbc = [True,True,True]\n",
    "frame = Atoms(positions=r,cell=h,numbers=nat*[1,],pbc=pbc)\n",
    "# view(frame)\n",
    "frame.wrap()\n",
    "r = frame.positions"
   ]
  },
  {
   "cell_type": "code",
   "execution_count": 13,
   "metadata": {},
   "outputs": [],
   "source": [
    "aa = deepcopy(frame)\n",
    "aa.wrap()\n",
    "view([frame,aa])\n",
    "view(frame)"
   ]
  },
  {
   "cell_type": "markdown",
   "metadata": {},
   "source": [
    "# builds neighbor list"
   ]
  },
  {
   "cell_type": "markdown",
   "metadata": {},
   "source": [
    "## determines bounding box and periodic images"
   ]
  },
  {
   "cell_type": "markdown",
   "metadata": {},
   "source": [
    "bounding box, including a cutoff-sized skin. this is the range we need to cover with periodic copies of the cell to find neighbors for all atoms"
   ]
  },
  {
   "cell_type": "code",
   "execution_count": 14,
   "metadata": {},
   "outputs": [
    {
     "data": {
      "text/plain": [
       "array([[-7.46892283, -2.77855015, -2.99550504],\n",
       "       [ 4.90707428,  5.19568997,  4.99760439]])"
      ]
     },
     "execution_count": 14,
     "metadata": {},
     "output_type": "execute_result"
    }
   ],
   "source": [
    "bb = np.asarray([ r.min(axis=0), r.max(axis=0) ])\n",
    "bb[0] -= cutoff\n",
    "bb[1] += cutoff\n",
    "bb"
   ]
  },
  {
   "cell_type": "code",
   "execution_count": 15,
   "metadata": {
    "code_folding": [
     0
    ]
   },
   "outputs": [
    {
     "name": "stdout",
     "output_type": "stream",
     "text": [
      "494 2744 494 356\n"
     ]
    }
   ],
   "source": [
    "def isotropic_growth():\n",
    "    images = []\n",
    "    bounds_p = np.ones(3,int)\n",
    "    bounds_m = -np.ones(3,int)\n",
    "    carry_on = True\n",
    "    norm_bound = np.array([1,2])\n",
    "    while carry_on:\n",
    "        updates = False\n",
    "        tests = []\n",
    "        for ix in range(bounds_m[0],bounds_p[0]+1):\n",
    "            for iy in range(bounds_m[1],bounds_p[1]+1):\n",
    "                for iz in range(bounds_m[2],bounds_p[2]+1):\n",
    "                    ic = np.array([ix,iy,iz])\n",
    "                    ic_n = np.linalg.norm(ic)\n",
    "                    if ic_n < norm_bound[0] or ic_n >= norm_bound[1]:\n",
    "                        continue\n",
    "                    tests.append(ic_n)\n",
    "                    offset = np.dot(ic,h)\n",
    "                    ro = r + offset\n",
    "                    for ri in ro:\n",
    "                        if np.all(ri>=bb[0]) and np.all(ri<=bb[1]):\n",
    "                            images.append(ri)\n",
    "                            updates = True\n",
    "        # print(bounds_p,bounds_m)\n",
    "        if updates is False:\n",
    "            carry_on = False\n",
    "        bounds_p += 1\n",
    "        bounds_m -= 1\n",
    "        norm_bound += 1\n",
    "\n",
    "    im = np.asarray(images)     \n",
    "    nreplicas = np.prod(bounds_p - bounds_m)\n",
    "    return im, nreplicas\n",
    "\n",
    "def grow_and_check(ic, pcells, images):\n",
    "    for d in product([-1, 0, 1],repeat=dim):\n",
    "        ncd = tuple(np.asarray(ic,int)+np.asarray(d))\n",
    "        if ncd in pcells:\n",
    "            continue\n",
    "        offset = np.dot(np.asarray(ncd),h)\n",
    "        ro = r + offset\n",
    "        found_any = False\n",
    "        for ri in ro:\n",
    "            if all(ri>=bb[0]) and all(ri<=bb[1]):\n",
    "                found_any = True\n",
    "                images.append(ri)  \n",
    "        pcells.append(ncd)\n",
    "        if found_any:\n",
    "            grow_and_check(ncd, pcells, images)\n",
    "    return np.asarray(images), len(pcells)\n",
    "\n",
    "im_iso, nreplicas_iso = isotropic_growth()\n",
    "ic = np.zeros(dim)\n",
    "pcells = [tuple(ic)]\n",
    "images = []\n",
    "im_it, nreplicas_it = grow_and_check(ic,pcells,images)\n",
    "\n",
    "print(len(im_iso),nreplicas_iso,len(im_it),nreplicas_it)\n",
    "\n"
   ]
  },
  {
   "cell_type": "code",
   "execution_count": 16,
   "metadata": {},
   "outputs": [
    {
     "data": {
      "text/plain": [
       "array([], dtype=float64)"
      ]
     },
     "execution_count": 16,
     "metadata": {},
     "output_type": "execute_result"
    }
   ],
   "source": [
    "dd = pdist(im_it)\n",
    "dd[np.abs(dd) < 1e-3]"
   ]
  },
  {
   "cell_type": "code",
   "execution_count": 17,
   "metadata": {},
   "outputs": [],
   "source": [
    "im = im_it\n",
    "frame_filled = Atoms(positions=np.vstack([r,im]),cell=h,numbers=nat*[8,]+len(im)*[1],pbc=pbc)\n",
    "view(frame_filled)"
   ]
  },
  {
   "cell_type": "markdown",
   "metadata": {},
   "source": [
    "## builds linked cells"
   ]
  },
  {
   "cell_type": "markdown",
   "metadata": {},
   "source": [
    "since we computed all the necessary images, we can make linked cells that are exactly rc"
   ]
  },
  {
   "cell_type": "code",
   "execution_count": 20,
   "metadata": {},
   "outputs": [],
   "source": [
    "ncells = np.asarray(np.ceil((bb[1]-bb[0])/cutoff),int)"
   ]
  },
  {
   "cell_type": "markdown",
   "metadata": {},
   "source": [
    "to which cell do each point belong?"
   ]
  },
  {
   "cell_type": "code",
   "execution_count": 21,
   "metadata": {},
   "outputs": [
    {
     "data": {
      "text/plain": [
       "array([[1, 1, 1],\n",
       "       [1, 1, 1],\n",
       "       [2, 1, 1],\n",
       "       [3, 1, 1],\n",
       "       [1, 1, 1],\n",
       "       [2, 1, 1],\n",
       "       [2, 1, 1],\n",
       "       [2, 1, 1],\n",
       "       [2, 1, 1],\n",
       "       [2, 1, 1]])"
      ]
     },
     "execution_count": 21,
     "metadata": {},
     "output_type": "execute_result"
    }
   ],
   "source": [
    "icr = np.asarray(np.floor((r-bb[0])/cutoff),int)\n",
    "icim = np.asarray(np.floor((im-bb[0])/cutoff),int)\n",
    "icr"
   ]
  },
  {
   "cell_type": "code",
   "execution_count": 22,
   "metadata": {
    "code_folding": []
   },
   "outputs": [],
   "source": [
    "class Boxes(object):\n",
    "    def __init__(self,ncells):\n",
    "        self.ncells = ncells\n",
    "        self.boxes = []\n",
    "        for ii in range(np.prod(ncells)):\n",
    "            self.boxes.append([])\n",
    "    def get_lin_idx(self, pos_3d):\n",
    "        lin_idx = 0\n",
    "        fac = 1\n",
    "        for ii,p in enumerate(pos_3d):\n",
    "            lin_idx += fac*p\n",
    "            fac *= self.ncells[ii]\n",
    "        return lin_idx\n",
    "    def get_mult_idx(self, lin_idx):\n",
    "        pos_3d = np.array([0,0,0],int)\n",
    "        for ii in range(3):\n",
    "            pos_3d[ii] = lin_idx % self.ncells[ii]\n",
    "            lin_idx /= self.ncells[ii]\n",
    "        return pos_3d\n",
    "    def __getitem__(self,pos_3d):\n",
    "        return self.boxes[self.get_lin_idx(pos_3d)]\n",
    "    def get_size(self,pos_3d):\n",
    "        return len(self.boxes[self.get_lin_idx(pos_3d)])\n",
    "    def __repr__(self):\n",
    "        return str(self.boxes)\n",
    "    def __str__(self):\n",
    "        return self.__repr__()\n",
    "    def __iter__(self):\n",
    "        for box in self.boxes:\n",
    "            yield box\n",
    "    def get_neighbour_boxes(self,lin_idx):\n",
    "        pos_3d = self.get_mult_idx(lin_idx)\n",
    "        # print(pos_3d)\n",
    "        \n",
    "        for ix,iy,iz in product([-1, 0, 1],repeat=dim):\n",
    "            if ix == 0 and iy == 0 and iz == 0: continue\n",
    "            lin_idx = self.get_lin_idx(pos_3d+np.array([ix,iy,iz]))\n",
    "            if len(self.boxes[lin_idx]) > 0:\n",
    "                yield self.boxes[lin_idx]"
   ]
  },
  {
   "cell_type": "code",
   "execution_count": 23,
   "metadata": {},
   "outputs": [],
   "source": [
    "ci = Boxes(ncells)\n",
    "for i, ic in enumerate(icr):    \n",
    "    ci[ic].append(i)"
   ]
  },
  {
   "cell_type": "code",
   "execution_count": 24,
   "metadata": {},
   "outputs": [],
   "source": [
    "ciim = Boxes(ncells)\n",
    "for i, ic in enumerate(icim):    \n",
    "    ciim[ic].append(i+nat)"
   ]
  },
  {
   "cell_type": "markdown",
   "metadata": {},
   "source": [
    "just put all atoms in the neighboring cells as neighbors"
   ]
  },
  {
   "cell_type": "code",
   "execution_count": 25,
   "metadata": {
    "code_folding": []
   },
   "outputs": [],
   "source": [
    "# array with all positions\n",
    "all_pos = np.vstack([r,im])\n",
    "# the NL\n",
    "NL = [[] for ii in range(nat)]\n",
    "for ibox_lin, cbox in enumerate(ci):\n",
    "    cbox_np = np.array(cbox)\n",
    "    for center_idx in cbox:\n",
    "        # print(center_idx)\n",
    "        # add centers that are in the same box\n",
    "        NL[center_idx].extend(list(cbox_np[cbox_np != center_idx]))\n",
    "        # add centers from the neighboring boxes\n",
    "        for neigh_box in ci.get_neighbour_boxes(ibox_lin):\n",
    "            NL[center_idx].extend(neigh_box)\n",
    "        # add images from the same box\n",
    "        NL[center_idx].extend(ciim.boxes[ibox_lin])\n",
    "        # add images from the neighboring boxes\n",
    "        for neigh_box in ciim.get_neighbour_boxes(ibox_lin):\n",
    "            NL[center_idx].extend(neigh_box)\n",
    "distances = [[] for ii in range(nat)]\n",
    "for icenter in range(nat):\n",
    "    for ineigh in NL[icenter]:\n",
    "        dist = np.linalg.norm(all_pos[icenter] - all_pos[ineigh])\n",
    "        distances[icenter].append(dist)"
   ]
  },
  {
   "cell_type": "code",
   "execution_count": 26,
   "metadata": {},
   "outputs": [],
   "source": [
    "icenter = 2"
   ]
  },
  {
   "cell_type": "code",
   "execution_count": 27,
   "metadata": {},
   "outputs": [
    {
     "data": {
      "text/plain": [
       "array([0.71073521, 0.79672426, 0.95481623, 1.09413593, 1.09427239,\n",
       "       1.504652  , 1.62584148, 1.62624106, 1.71638101, 1.75287873,\n",
       "       1.75437791, 1.76047185, 1.78908251, 1.83323088, 1.8494406 ,\n",
       "       1.85401337, 1.93035014, 1.93542851, 1.95977197, 1.99098717,\n",
       "       1.99475901, 2.        , 2.        , 2.01777555, 2.02383497,\n",
       "       2.12567955, 2.13019088, 2.19792397, 2.21311916, 2.28217548,\n",
       "       2.29029591, 2.29870342, 2.35715329, 2.36501629, 2.37140789,\n",
       "       2.41314398, 2.42487108, 2.43088192, 2.44594397, 2.44596531,\n",
       "       2.48400442, 2.53282517, 2.54154746, 2.57908472, 2.5954244 ,\n",
       "       2.59807621, 2.59807621, 2.61339941, 2.65219318, 2.66066818,\n",
       "       2.69298516, 2.70046761, 2.70914022, 2.71683574, 2.73253459,\n",
       "       2.73337133, 2.76089878, 2.77255789, 2.78011567, 2.83009571,\n",
       "       2.8788462 , 2.88868332, 2.89093529, 2.89634677, 2.90153169,\n",
       "       2.91365491, 2.9178887 , 2.94035258, 2.94476995, 2.97494723,\n",
       "       2.98153305, 2.98219002, 2.98320821, 2.98945526, 3.        ])"
      ]
     },
     "execution_count": 27,
     "metadata": {},
     "output_type": "execute_result"
    }
   ],
   "source": [
    "dd1 = np.array(distances[icenter])\n",
    "ee = np.sort(dd1[dd1 <= cutoff])\n",
    "ee"
   ]
  },
  {
   "cell_type": "code",
   "execution_count": 28,
   "metadata": {},
   "outputs": [
    {
     "data": {
      "text/plain": [
       "array([0.71073521, 0.79672426, 0.95481623, 1.09413593, 1.09427239,\n",
       "       1.504652  , 1.62584148, 1.62624106, 1.71638101, 1.75287873,\n",
       "       1.75437791, 1.76047185, 1.78908251, 1.83323088, 1.8494406 ,\n",
       "       1.85401337, 1.93035014, 1.93542851, 1.95977197, 1.99098717,\n",
       "       1.99475901, 2.        , 2.        , 2.01777555, 2.02383497,\n",
       "       2.12567955, 2.13019088, 2.19792397, 2.21311916, 2.28217548,\n",
       "       2.29029591, 2.29870342, 2.35715329, 2.36501629, 2.37140789,\n",
       "       2.41314398, 2.42487108, 2.43088192, 2.44594397, 2.44596531,\n",
       "       2.48400442, 2.53282517, 2.54154746, 2.57908472, 2.5954244 ,\n",
       "       2.59807621, 2.59807621, 2.61339941, 2.65219318, 2.66066818,\n",
       "       2.69298516, 2.70046761, 2.70914022, 2.71683574, 2.73253459,\n",
       "       2.73337133, 2.76089878, 2.77255789, 2.78011567, 2.83009571,\n",
       "       2.8788462 , 2.88868332, 2.89093529, 2.89634677, 2.90153169,\n",
       "       2.91365491, 2.9178887 , 2.94035258, 2.94476995, 2.97494723,\n",
       "       2.98153305, 2.98219002, 2.98320821, 2.98945526, 3.        ])"
      ]
     },
     "execution_count": 28,
     "metadata": {},
     "output_type": "execute_result"
    }
   ],
   "source": [
    "dd1 = np.array(distances[icenter])\n",
    "dd = np.sort(dd1[dd1 <= cutoff])\n",
    "dd"
   ]
  },
  {
   "cell_type": "code",
   "execution_count": 29,
   "metadata": {},
   "outputs": [
    {
     "data": {
      "text/plain": [
       "array([0., 0., 0., 0., 0., 0., 0., 0., 0., 0., 0., 0., 0., 0., 0., 0., 0.,\n",
       "       0., 0., 0., 0., 0., 0., 0., 0., 0., 0., 0., 0., 0., 0., 0., 0., 0.,\n",
       "       0., 0., 0., 0., 0., 0., 0., 0., 0., 0., 0., 0., 0., 0., 0., 0., 0.,\n",
       "       0., 0., 0., 0., 0., 0., 0., 0., 0., 0., 0., 0., 0., 0., 0., 0., 0.,\n",
       "       0., 0., 0., 0., 0., 0., 0.])"
      ]
     },
     "execution_count": 29,
     "metadata": {},
     "output_type": "execute_result"
    }
   ],
   "source": [
    "ee - dd"
   ]
  },
  {
   "cell_type": "markdown",
   "metadata": {},
   "source": [
    "# The whole neighbourlist design streamlined"
   ]
  },
  {
   "cell_type": "code",
   "execution_count": 2,
   "metadata": {
    "code_folding": []
   },
   "outputs": [],
   "source": [
    "# grow the cell shell by shell in an all directions. stops when no replicas of a shell add atom to the bounding box\n",
    "def isotropic_growth(h,bb):\n",
    "    images = []\n",
    "    bounds_p = np.ones(3,int)\n",
    "    bounds_m = -np.ones(3,int)\n",
    "    carry_on = True\n",
    "    norm_bound = np.array([1,2])\n",
    "    while carry_on:\n",
    "        updates = False\n",
    "        tests = []\n",
    "        for ix in range(bounds_m[0],bounds_p[0]+1):\n",
    "            for iy in range(bounds_m[1],bounds_p[1]+1):\n",
    "                for iz in range(bounds_m[2],bounds_p[2]+1):\n",
    "                    ic = np.array([ix,iy,iz])\n",
    "                    ic_n = np.linalg.norm(ic)\n",
    "                    if ic_n < norm_bound[0] or ic_n >= norm_bound[1]:\n",
    "                        continue\n",
    "                    tests.append(ic_n)\n",
    "                    offset = np.dot(ic,h)\n",
    "                    ro = r + offset\n",
    "                    for ri in ro:\n",
    "                        if np.all(ri>=bb[0]) and np.all(ri<=bb[1]):\n",
    "                            images.append(ri)\n",
    "                            updates = True\n",
    "        # print(bounds_p,bounds_m)\n",
    "        if updates is False:\n",
    "            carry_on = False\n",
    "        bounds_p += 1\n",
    "        bounds_m -= 1\n",
    "        norm_bound += 1\n",
    "\n",
    "    im = np.asarray(images)     \n",
    "    nreplicas = np.prod(bounds_p - bounds_m)\n",
    "    return im, nreplicas\n",
    "\n",
    "# grow the cell recursivelly: \n",
    "# add neighboring replicas to pcells\n",
    "# go through the replicas in pcells, if atoms are added to the bounding box then add the neighgoring cells to pcells \n",
    "# making sure pcells has unique entries\n",
    "def grow_and_check(r,h,bb,dim=3):\n",
    "    images = []\n",
    "    pcells = [tuple(np.zeros(dim))]\n",
    "    def func_recursive(ic):\n",
    "        for d in itertools.product([-1, 0, 1],repeat=dim):\n",
    "            ncd = tuple(np.asarray(ic,int)+np.asarray(d))\n",
    "            if ncd in pcells:\n",
    "                continue\n",
    "            offset = np.dot(np.asarray(ncd),h)\n",
    "            ro = r + offset\n",
    "            found_any = False\n",
    "            for ri in ro:\n",
    "                if np.all(ri>=bb[0]) and np.all(ri<=bb[1]):\n",
    "                    found_any = True\n",
    "                    images.append(ri)  \n",
    "            pcells.append(ncd)\n",
    "            if found_any is True:\n",
    "                func_recursive(ncd)\n",
    "    func_recursive(pcells[0])\n",
    "    return np.asarray(images), len(pcells)"
   ]
  },
  {
   "cell_type": "code",
   "execution_count": 4,
   "metadata": {},
   "outputs": [],
   "source": [
    "# representation of the binning boxes within the bounding box\n",
    "class Boxes(object):\n",
    "    def __init__(self,ncells):\n",
    "        self.ncells = ncells\n",
    "        self.boxes = []\n",
    "        for ii in range(np.prod(ncells)):\n",
    "            self.boxes.append([])\n",
    "    def get_lin_idx(self, pos_3d):\n",
    "        lin_idx = 0\n",
    "        fac = 1\n",
    "        for ii,p in enumerate(pos_3d):\n",
    "            lin_idx += fac*p\n",
    "            fac *= self.ncells[ii]\n",
    "        return lin_idx\n",
    "    def get_mult_idx(self, lin_idx):\n",
    "        pos_3d = np.array([0,0,0],int)\n",
    "        for ii in range(3):\n",
    "            pos_3d[ii] = lin_idx % self.ncells[ii]\n",
    "            lin_idx /= self.ncells[ii]\n",
    "        return pos_3d\n",
    "    def __getitem__(self,pos_3d):\n",
    "        return self.boxes[self.get_lin_idx(pos_3d)]\n",
    "    def __iter__(self):\n",
    "        for box in self.boxes:\n",
    "            yield box\n",
    "    def get_neighbour_boxes(self,lin_idx):\n",
    "        pos_3d = self.get_mult_idx(lin_idx)\n",
    "        for ix,iy,iz in product([-1, 0, 1],repeat=dim):\n",
    "            # avoid centeral box \n",
    "            if ix == 0 and iy == 0 and iz == 0: \n",
    "                continue\n",
    "            lin_idx = self.get_lin_idx(pos_3d+np.array([ix,iy,iz]))\n",
    "            if len(self.boxes[lin_idx]) > 0:\n",
    "                yield self.boxes[lin_idx]\n",
    "    def __repr__(self):\n",
    "        return str(self.boxes)\n",
    "    def __str__(self):\n",
    "        return self.__repr__()\n",
    "    def get_size(self,pos_3d):\n",
    "        return len(self.boxes[self.get_lin_idx(pos_3d)])"
   ]
  },
  {
   "cell_type": "code",
   "execution_count": 5,
   "metadata": {},
   "outputs": [],
   "source": [
    "def get_neighborlist(frame, cutoff):\n",
    "    nat = len(frame)\n",
    "    h = frame.get_cell()\n",
    "    r = frame.get_positions()\n",
    "    # bounding box, including a cutoff-sized skin. this is the range we need to cover \n",
    "    # with periodic copies of the cell to find neighbors for all atoms\n",
    "    bb = np.asarray([ r.min(axis=0), r.max(axis=0) ])\n",
    "    bb[0] -= cutoff\n",
    "    bb[1] += cutoff\n",
    "    # build the images iterativelly by growing the replication of the cell from (0,0,0)\n",
    "    im, nnn = grow_and_check(r, h, bb)\n",
    "\n",
    "    # since we computed all the necessary images, we can make linked cells that are exactly rc\n",
    "    ncells = np.asarray(np.ceil((bb[1]-bb[0])/cutoff),int)\n",
    "    # to which cell do each point belong?\n",
    "    icr = np.asarray(np.floor((r-bb[0])/cutoff),int)\n",
    "    icim = np.asarray(np.floor((im-bb[0])/cutoff),int)\n",
    "\n",
    "    # bin the centers in the boxes\n",
    "    ci = Boxes(ncells)\n",
    "    for i, ic in enumerate(icr):    \n",
    "        ci[ic].append(i)\n",
    "    # bin the replicas\n",
    "    ciim = Boxes(ncells)\n",
    "    for i, ic in enumerate(icim):    \n",
    "        ciim[ic].append(i+nat)    \n",
    "\n",
    "    # array with all positions\n",
    "    all_pos = np.vstack([r,im])\n",
    "\n",
    "    # build the NL\n",
    "    NL = [[] for ii in range(nat)]\n",
    "    for ibox_lin, cbox in enumerate(ci):\n",
    "        cbox_np = np.array(cbox)\n",
    "        for center_idx in cbox:\n",
    "            # add centers that are in the same box\n",
    "            NL[center_idx].extend(list(cbox_np[cbox_np != center_idx]))\n",
    "            # add centers from the neighboring boxes\n",
    "            for neigh_box in ci.get_neighbour_boxes(ibox_lin):\n",
    "                NL[center_idx].extend(neigh_box)\n",
    "            # add images from the same boxe\n",
    "            NL[center_idx].extend(ciim.boxes[ibox_lin])\n",
    "            # add images from the neighboring boxes\n",
    "            for neigh_box in ciim.get_neighbour_boxes(ibox_lin):\n",
    "                NL[center_idx].extend(neigh_box)\n",
    "\n",
    "    distances = [[] for ii in range(nat)]\n",
    "    for icenter in range(nat):\n",
    "        for ineigh in NL[icenter]:\n",
    "            dist = np.linalg.norm(all_pos[icenter] - all_pos[ineigh])\n",
    "            distances[icenter].append(dist)\n",
    "\n",
    "    return NL, distances, all_pos"
   ]
  },
  {
   "cell_type": "code",
   "execution_count": 6,
   "metadata": {},
   "outputs": [],
   "source": [
    "# Hexagonal v1 = a(1,0,0),  v2 = a(-1/2,sqrt(3)/2,0),  v3 = a(0,0,c/a)\n",
    "a = 3\n",
    "c = 2\n",
    "nat = 10    # number of atoms\n",
    "rrange = 5.0 # range of x positions\n",
    "dim = 3      # dimensionality\n",
    "cutoff = 3.0 # cutoff for interactions\n",
    "# h = a*np.array([[1,0,0],[-0.5,np.sqrt(3)/2,0],[0,0,c/a]])\n",
    "h = a*np.array([[1,0,0],[-2,np.sqrt(3)/2,0],[0,0,c/a]])\n",
    "r = np.random.uniform(low=-rrange, high=2*rrange, size=(nat, dim))\n",
    "pbc = [True,True,True]\n",
    "frame = Atoms(positions=r,cell=h,numbers=nat*[1,],pbc=pbc)\n",
    "frame_wraped = deepcopy(frame)\n",
    "frame_wraped.wrap()"
   ]
  },
  {
   "cell_type": "code",
   "execution_count": 7,
   "metadata": {},
   "outputs": [],
   "source": [
    "view([frame,frame_wraped])"
   ]
  },
  {
   "cell_type": "code",
   "execution_count": 8,
   "metadata": {},
   "outputs": [],
   "source": [
    "NL_1, distances_1, all_pos_1 = get_neighborlist(frame, cutoff)\n",
    "NL_2, distances_2, all_pos_2 = get_neighborlist(frame_wraped, cutoff)"
   ]
  },
  {
   "cell_type": "code",
   "execution_count": 9,
   "metadata": {},
   "outputs": [
    {
     "name": "stdout",
     "output_type": "stream",
     "text": [
      "0 True\n",
      "1 True\n",
      "2 True\n",
      "3 True\n",
      "4 True\n",
      "5 True\n",
      "6 True\n",
      "7 True\n",
      "8 True\n",
      "9 True\n"
     ]
    }
   ],
   "source": [
    "epsilon = 1e-14\n",
    "# check if the neighbour distances to the centers in both NL are the same in a strict cutoff sense\n",
    "for icenter in range(nat):\n",
    "    # icenter = 3\n",
    "    dd1 = np.array(distances_1[icenter])\n",
    "    dd2 = np.array(distances_2[icenter])\n",
    "    ee = np.sort(dd1[dd1 <= cutoff+epsilon])\n",
    "    dd = np.sort(dd2[dd2 <= cutoff+epsilon])\n",
    "    print(icenter, np.allclose(ee,dd))"
   ]
  },
  {
   "cell_type": "code",
   "execution_count": null,
   "metadata": {},
   "outputs": [],
   "source": []
  }
 ],
 "metadata": {
  "kernelspec": {
   "display_name": "Python 3",
   "language": "python",
   "name": "python3"
  },
  "language_info": {
   "codemirror_mode": {
    "name": "ipython",
    "version": 3
   },
   "file_extension": ".py",
   "mimetype": "text/x-python",
   "name": "python",
   "nbconvert_exporter": "python",
   "pygments_lexer": "ipython3",
   "version": "3.6.8"
  },
  "toc": {
   "base_numbering": 1,
   "nav_menu": {},
   "number_sections": true,
   "sideBar": true,
   "skip_h1_title": false,
   "title_cell": "Table of Contents",
   "title_sidebar": "Contents",
   "toc_cell": false,
   "toc_position": {},
   "toc_section_display": true,
   "toc_window_display": false
  }
 },
 "nbformat": 4,
 "nbformat_minor": 2
}
