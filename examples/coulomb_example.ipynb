{
 "cells": [
  {
   "cell_type": "markdown",
   "metadata": {},
   "source": [
    "# Compute the atom centered Coulomb Matrix representation"
   ]
  },
  {
   "cell_type": "markdown",
   "metadata": {},
   "source": [
    "To install QML library and compare rascal results with it\n",
    "+ pip install qml ase"
   ]
  },
  {
   "cell_type": "markdown",
   "metadata": {},
   "source": [
    "To install rascal:\n",
    "+ mkdir ../build \n",
    "+ cd build\n",
    "+ cmake -DCMAKE_BUILD_TYPE=Release -DBUILD_TESTS=ON ..\n",
    "+ make -j 4\n",
    "+ make install"
   ]
  },
  {
   "cell_type": "code",
   "execution_count": 3,
   "metadata": {},
   "outputs": [
    {
     "name": "stdout",
     "output_type": "stream",
     "text": [
      "env: OMP_NUM_THREADS=1\n"
     ]
    }
   ],
   "source": [
    "%env OMP_NUM_THREADS=1"
   ]
  },
  {
   "cell_type": "code",
   "execution_count": 4,
   "metadata": {},
   "outputs": [],
   "source": [
    "%matplotlib inline\n",
    "from matplotlib import pyplot as plt"
   ]
  },
  {
   "cell_type": "code",
   "execution_count": 5,
   "metadata": {},
   "outputs": [],
   "source": [
    "import qml\n",
    "from ase.io import read\n",
    "from ase.visualize import view\n",
    "import numpy as np\n",
    "import sys\n",
    "from ase.build import make_supercell"
   ]
  },
  {
   "cell_type": "code",
   "execution_count": 12,
   "metadata": {},
   "outputs": [
    {
     "name": "stdout",
     "output_type": "stream",
     "text": [
      "/home/markus/repos/review/librascal/\n",
      "['/home/markus/repos/review/librascal/build2/', '/home/markus/repos/review/librascal/build2/', '/home/markus/repos/review/librascal/build2/', '', '/usr/lib/python36.zip', '/usr/lib/python3.6', '/usr/lib/python3.6/lib-dynload', '/home/markus/.local/lib/python3.6/site-packages', '/home/markus/.local/lib/python3.6/site-packages/AtomDigit-0.1-py3.6.egg', '/home/markus/.local/lib/python3.6/site-packages/ase-3.16.1b1-py3.6.egg', '/home/markus/.local/lib/python3.6/site-packages/Flask-1.0.2-py3.6.egg', '/home/markus/.local/lib/python3.6/site-packages/itsdangerous-0.24-py3.6.egg', '/home/markus/.local/lib/python3.6/site-packages/click-6.7-py3.6.egg', '/home/markus/.local/lib/python3.6/site-packages/subprocess32-3.5.1-py3.6.egg', '/home/markus/.local/lib/python3.6/site-packages/backports.functools_lru_cache-1.5-py3.6.egg', '/usr/local/lib/python3.6/dist-packages', '/usr/local/lib/python3.6/dist-packages/pep8-1.7.1-py3.6.egg', '/usr/local/lib/python3.6/dist-packages/pyflakes-1.6.0-py3.6.egg', '/usr/local/lib/python3.6/dist-packages/pycodestyle-2.3.1-py3.6.egg', '/usr/lib/python3/dist-packages', '/usr/local/lib/python3.6/dist-packages/IPython/extensions', '/home/markus/.ipython', '../../bindings/', '/home/markus/repos/review/librascal/build2/rascal/lib/../../bindings/']\n"
     ]
    }
   ],
   "source": [
    "p = '/home/markus/repos/review/librascal/'\n",
    "sys.path.insert(0, p + 'build2/')\n",
    "print (p)\n",
    "\n",
    "print(sys.path)"
   ]
  },
  {
   "cell_type": "code",
   "execution_count": 13,
   "metadata": {},
   "outputs": [],
   "source": [
    "from rascal.representation import SortedCoulombMatrix"
   ]
  },
  {
   "cell_type": "code",
   "execution_count": null,
   "metadata": {},
   "outputs": [],
   "source": []
  },
  {
   "cell_type": "code",
   "execution_count": 14,
   "metadata": {},
   "outputs": [],
   "source": [
    "# load a small subset of structures from QM9\n",
    "frames = read(p +'tests/reference_data/dft-smiles_500.xyz',':')\n",
    "cutoff = 3.\n",
    "rep = SortedCoulombMatrix(cutoff,sort='rownorm')"
   ]
  },
  {
   "cell_type": "code",
   "execution_count": 15,
   "metadata": {},
   "outputs": [
    {
     "name": "stdout",
     "output_type": "stream",
     "text": [
      "729\n"
     ]
    }
   ],
   "source": [
    "new_frames = []\n",
    "aa = []\n",
    "for frame in frames:\n",
    "    new_frames.append(make_supercell(frame,np.eye(3)*3))\n",
    "print(np.max(list(map(len,new_frames))))"
   ]
  },
  {
   "cell_type": "code",
   "execution_count": 16,
   "metadata": {},
   "outputs": [],
   "source": [
    "# have a look at them\n",
    "#view(frames)"
   ]
  },
  {
   "cell_type": "code",
   "execution_count": 17,
   "metadata": {},
   "outputs": [
    {
     "name": "stdout",
     "output_type": "stream",
     "text": [
      "1.33 s ± 17.9 ms per loop (mean ± std. dev. of 3 runs, 3 loops each)\n"
     ]
    }
   ],
   "source": [
    "# Compute the sorted coulomb matrices for the list of structures\n",
    "%timeit -n 3 -r 3 features = rep.transform(new_frames)"
   ]
  },
  {
   "cell_type": "code",
   "execution_count": 18,
   "metadata": {},
   "outputs": [],
   "source": [
    "# extract the feature matrix to compare with \n",
    "features = rep.transform(new_frames)\n",
    "test = features.get_feature_matrix().T"
   ]
  },
  {
   "cell_type": "code",
   "execution_count": 19,
   "metadata": {},
   "outputs": [
    {
     "ename": "TypeError",
     "evalue": "'tuple' object is not callable",
     "output_type": "error",
     "traceback": [
      "\u001b[0;31m---------------------------------------------------------------------------\u001b[0m",
      "\u001b[0;31mTypeError\u001b[0m                                 Traceback (most recent call last)",
      "\u001b[0;32m<ipython-input-19-9f137c98dc8d>\u001b[0m in \u001b[0;36m<module>\u001b[0;34m()\u001b[0m\n\u001b[0;32m----> 1\u001b[0;31m \u001b[0mfeatures\u001b[0m\u001b[0;34m.\u001b[0m\u001b[0mshape\u001b[0m\u001b[0;34m(\u001b[0m\u001b[0;34m)\u001b[0m\u001b[0;34m\u001b[0m\u001b[0;34m\u001b[0m\u001b[0m\n\u001b[0m",
      "\u001b[0;31mTypeError\u001b[0m: 'tuple' object is not callable"
     ]
    }
   ],
   "source": [
    "features.shape()"
   ]
  },
  {
   "cell_type": "code",
   "execution_count": null,
   "metadata": {
    "code_folding": [
     1,
     12
    ]
   },
   "outputs": [],
   "source": [
    "# To get the coulomb matrices from QML\n",
    "def get_coulomb_ref(frame,size,cutoff,flavour):\n",
    "    from qml.representations import generate_atomic_coulomb_matrix\n",
    "    \n",
    "    nuclear_charges = frame.get_atomic_numbers()\n",
    "    coordinates = frame.get_positions()\n",
    "    \n",
    "    \n",
    "    cm = generate_atomic_coulomb_matrix(nuclear_charges, coordinates, size = size, sorting = flavour,\n",
    "    central_cutoff = cutoff, central_decay = -1, interaction_cutoff = 1e6, interaction_decay = -1,indices = None)\n",
    "    \n",
    "    return cm\n",
    "def get_coulomb_refs(frames,size,cutoff,flavour='distance'):  \n",
    "    cms = []\n",
    "    for frame in frames:\n",
    "        cms.append(get_coulomb_ref(frame,size,cutoff,flavour))\n",
    "    return np.vstack(cms)"
   ]
  },
  {
   "cell_type": "code",
   "execution_count": null,
   "metadata": {},
   "outputs": [],
   "source": [
    "# Compare with reference\n",
    "%timeit -n 3 -r 3 ref = get_coulomb_refs(new_frames,rep.size,cutoff,flavour='row-norm')\n",
    "ref = get_coulomb_refs(new_frames,rep.size,cutoff,flavour='row-norm')\n",
    "np.allclose(test,ref)"
   ]
  },
  {
   "cell_type": "code",
   "execution_count": null,
   "metadata": {},
   "outputs": [],
   "source": [
    "from rascal.utils import fps"
   ]
  },
  {
   "cell_type": "code",
   "execution_count": null,
   "metadata": {},
   "outputs": [],
   "source": [
    "sparse_indices,sparse_minmax_d2 = fps(test,Nselect=500,starting_index=None,flavour='simple')"
   ]
  },
  {
   "cell_type": "code",
   "execution_count": null,
   "metadata": {},
   "outputs": [],
   "source": [
    "plt.plot(sparse_minmax_d2)"
   ]
  },
  {
   "cell_type": "code",
   "execution_count": null,
   "metadata": {},
   "outputs": [],
   "source": []
  },
  {
   "cell_type": "code",
   "execution_count": null,
   "metadata": {},
   "outputs": [],
   "source": []
  }
 ],
 "metadata": {
  "kernelspec": {
   "display_name": "Python 3",
   "language": "python",
   "name": "python3"
  },
  "language_info": {
   "codemirror_mode": {
    "name": "ipython",
    "version": 3
   },
   "file_extension": ".py",
   "mimetype": "text/x-python",
   "name": "python",
   "nbconvert_exporter": "python",
   "pygments_lexer": "ipython3",
   "version": "3.6.7"
  },
  "toc": {
   "base_numbering": 1,
   "nav_menu": {
    "height": "12px",
    "width": "252px"
   },
   "number_sections": true,
   "sideBar": true,
   "skip_h1_title": false,
   "title_cell": "Table of Contents",
   "title_sidebar": "Contents",
   "toc_cell": false,
   "toc_position": {},
   "toc_section_display": "block",
   "toc_window_display": false
  }
 },
 "nbformat": 4,
 "nbformat_minor": 2
}
