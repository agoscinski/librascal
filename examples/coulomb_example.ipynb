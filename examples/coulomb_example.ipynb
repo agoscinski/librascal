{
 "cells": [
  {
   "cell_type": "markdown",
   "metadata": {},
   "source": [
    "# Compute the atom centered Coulomb Matrix representation"
   ]
  },
  {
   "cell_type": "markdown",
   "metadata": {},
   "source": [
    "To install QML library and compare rascal results with it\n",
    "+ pip install qml ase"
   ]
  },
  {
   "cell_type": "markdown",
   "metadata": {},
   "source": [
    "To install rascal:\n",
    "+ mkdir ../build \n",
    "+ cd build\n",
    "+ cmake -DCMAKE_BUILD_TYPE=Release -DBUILD_TESTS=ON ..\n",
    "+ make -j 4\n",
    "+ make install"
   ]
  },
  {
   "cell_type": "code",
   "execution_count": 19,
   "metadata": {},
   "outputs": [],
   "source": [
    "%matplotlib inline\n",
    "from matplotlib import pyplot as plt"
   ]
  },
  {
   "cell_type": "code",
   "execution_count": 1,
   "metadata": {},
   "outputs": [],
   "source": [
    "import qml\n",
    "from ase.io import read\n",
    "from ase.visualize import view\n",
    "import numpy as np\n",
    "import sys"
   ]
  },
  {
   "cell_type": "code",
   "execution_count": 2,
   "metadata": {},
   "outputs": [],
   "source": [
    "p = '/local/git/librascal/'\n",
    "sys.path.insert(0,p+'build/bindings')"
   ]
  },
  {
   "cell_type": "code",
   "execution_count": 22,
   "metadata": {},
   "outputs": [],
   "source": [
    "from rascal.representation import SortedCoulombMatrix"
   ]
  },
  {
   "cell_type": "code",
   "execution_count": 3,
   "metadata": {},
   "outputs": [],
   "source": [
    "import _rascal as rc"
   ]
  },
  {
   "cell_type": "code",
   "execution_count": null,
   "metadata": {},
   "outputs": [],
   "source": [
    "rc.RepresentationManager.SortedCoulomb_Strict_NeighbourList_Centers_Distance"
   ]
  },
  {
   "cell_type": "code",
   "execution_count": null,
   "metadata": {},
   "outputs": [],
   "source": []
  },
  {
   "cell_type": "code",
   "execution_count": 5,
   "metadata": {},
   "outputs": [],
   "source": [
    "# load a small subset of structures from QM9\n",
    "frames = read(p+'tests/reference_data/dft-smiles_500.xyz',':')\n",
    "cutoff = 3.\n",
    "rep = SortedCoulombMatrix(cutoff)"
   ]
  },
  {
   "cell_type": "code",
   "execution_count": 6,
   "metadata": {},
   "outputs": [],
   "source": [
    "# have a look at them\n",
    "view(frames)"
   ]
  },
  {
   "cell_type": "code",
   "execution_count": 6,
   "metadata": {},
   "outputs": [],
   "source": [
    "# Compute the sorted coulomb matrices for the list of structures\n",
    "features = rep.transform(frames)"
   ]
  },
  {
   "cell_type": "code",
   "execution_count": 7,
   "metadata": {},
   "outputs": [],
   "source": [
    "# extract the feature matrix to compare with \n",
    "test = features.get_feature_matrix().T"
   ]
  },
  {
   "cell_type": "code",
   "execution_count": 8,
   "metadata": {},
   "outputs": [
    {
     "data": {
      "text/plain": [
       "(8977, 276)"
      ]
     },
     "execution_count": 8,
     "metadata": {},
     "output_type": "execute_result"
    }
   ],
   "source": [
    "features.shape()"
   ]
  },
  {
   "cell_type": "code",
   "execution_count": 9,
   "metadata": {
    "code_folding": [
     1,
     12
    ]
   },
   "outputs": [],
   "source": [
    "# To get the coulomb matrices from QML\n",
    "def get_coulomb_ref(frame,size,cutoff):\n",
    "    from qml.representations import generate_atomic_coulomb_matrix\n",
    "    \n",
    "    nuclear_charges = frame.get_atomic_numbers()\n",
    "    coordinates = frame.get_positions()\n",
    "    \n",
    "    \n",
    "    cm = generate_atomic_coulomb_matrix(nuclear_charges, coordinates, size = size, sorting = \"distance\",\n",
    "    central_cutoff = cutoff, central_decay = -1, interaction_cutoff = 1e6, interaction_decay = -1,indices = None)\n",
    "    \n",
    "    return cm\n",
    "def get_coulomb_refs(frames,size,cutoff):  \n",
    "    cms = []\n",
    "    for frame in frames:\n",
    "        cms.append(get_coulomb_ref(frame,size,cutoff))\n",
    "    return np.vstack(cms)"
   ]
  },
  {
   "cell_type": "code",
   "execution_count": 10,
   "metadata": {},
   "outputs": [
    {
     "data": {
      "text/plain": [
       "True"
      ]
     },
     "execution_count": 10,
     "metadata": {},
     "output_type": "execute_result"
    }
   ],
   "source": [
    "# Compare with reference\n",
    "ref = get_coulomb_refs(frames,rep.size,cutoff)\n",
    "np.allclose(test,ref)"
   ]
  },
  {
   "cell_type": "code",
   "execution_count": 12,
   "metadata": {},
   "outputs": [],
   "source": [
    "from rascal.utils import fps"
   ]
  },
  {
   "cell_type": "code",
   "execution_count": 15,
   "metadata": {},
   "outputs": [],
   "source": [
    "sparse_indices,sparse_minmax_d2 = fps(test,Nselect=500,starting_index=None,flavour='simple')"
   ]
  },
  {
   "cell_type": "code",
   "execution_count": 16,
   "metadata": {},
   "outputs": [
    {
     "data": {
      "text/plain": [
       "[<matplotlib.lines.Line2D at 0x7fb5bf7ec5f8>]"
      ]
     },
     "execution_count": 16,
     "metadata": {},
     "output_type": "execute_result"
    },
    {
     "data": {
      "image/png": "[encoded data removed]",
      "text/plain": [
       "<Figure size 432x288 with 1 Axes>"
      ]
     },
     "metadata": {
      "needs_background": "light"
     },
     "output_type": "display_data"
    }
   ],
   "source": [
    "plt.plot(sparse_minmax_d2)"
   ]
  },
  {
   "cell_type": "code",
   "execution_count": null,
   "metadata": {},
   "outputs": [],
   "source": []
  }
 ],
 "metadata": {
  "kernelspec": {
   "display_name": "Python 3.6",
   "language": "python",
   "name": "py3"
  },
  "language_info": {
   "codemirror_mode": {
    "name": "ipython",
    "version": 3
   },
   "file_extension": ".py",
   "mimetype": "text/x-python",
   "name": "python",
   "nbconvert_exporter": "python",
   "pygments_lexer": "ipython3",
   "version": "3.6.6"
  },
  "toc": {
   "base_numbering": 1,
   "nav_menu": {
    "height": "12px",
    "width": "252px"
   },
   "number_sections": true,
   "sideBar": true,
   "skip_h1_title": false,
   "title_cell": "Table of Contents",
   "title_sidebar": "Contents",
   "toc_cell": false,
   "toc_position": {},
   "toc_section_display": "block",
   "toc_window_display": false
  }
 },
 "nbformat": 4,
 "nbformat_minor": 2
}
